{
  "nbformat": 4,
  "nbformat_minor": 0,
  "metadata": {
    "colab": {
      "provenance": []
    },
    "kernelspec": {
      "name": "python3",
      "display_name": "Python 3"
    },
    "language_info": {
      "name": "python"
    }
  },
  "cells": [
    {
      "cell_type": "markdown",
      "source": [
        "**Real-Time Tweet Sentiment Classifier using Logistic Regression**"
      ],
      "metadata": {
        "id": "xXF813j6ok-F"
      }
    },
    {
      "cell_type": "markdown",
      "source": [
        "**📌 Real-world Scenario:**\n",
        "\n",
        "You're working with a company that wants to monitor customer feedback on Twitter to identify positive or negative sentiments regarding its product launch. Your task is to build a mini NLP pipeline that includes preprocessing, feature extraction, sentiment classification using logistic regression, and visualizations."
      ],
      "metadata": {
        "id": "s41Yk5btoyLN"
      }
    },
    {
      "cell_type": "code",
      "source": [
        "# 📦 Install dependencies\n",
        "!pip install gradio nltk scikit-learn\n",
        "\n",
        "# ✅ Imports\n",
        "import re\n",
        "import gradio as gr\n",
        "import nltk\n",
        "import pandas as pd\n",
        "from nltk.corpus import stopwords\n",
        "from nltk.stem import WordNetLemmatizer\n",
        "from sklearn.feature_extraction.text import TfidfVectorizer\n",
        "from sklearn.linear_model import LogisticRegression\n",
        "from sklearn.metrics import accuracy_score, log_loss, classification_report\n",
        "\n",
        "# ✅ Download NLTK resources\n",
        "nltk.download('stopwords')\n",
        "nltk.download('wordnet')\n",
        "nltk.download('omw-1.4')\n",
        "\n",
        "# ✅ Setup tools\n",
        "stop_words = set(stopwords.words('english'))\n",
        "lemmatizer = WordNetLemmatizer()\n",
        "\n",
        "# ✅ Sample dataset (balanced, 10 samples)\n",
        "data = {\n",
        "    'tweet': [\n",
        "        \"I love this new phone!\",                          # positive\n",
        "        \"This is an amazing product.\",                     # positive\n",
        "        \"Absolutely terrible service.\",                    # negative\n",
        "        \"I’m so happy with this laptop.\",                  # positive\n",
        "        \"The battery drains too fast.\",                    # negative\n",
        "        \"Superb build quality and smooth interface.\",      # positive\n",
        "        \"Worst camera ever.\",                              # negative\n",
        "        \"Fast and reliable, totally worth it!\",            # positive\n",
        "        \"It stopped working after one week!\",              # negative\n",
        "        \"Customer service was so helpful!\",                # positive\n",
        "    ],\n",
        "    'sentiment': [1, 1, 0, 1, 0, 1, 0, 1, 0, 1]  # 1 = positive, 0 = negative\n",
        "}\n",
        "df = pd.DataFrame(data)\n",
        "\n",
        "# ✅ Preprocessing function\n",
        "def clean_tweet(tweet):\n",
        "    tweet = tweet.lower()\n",
        "    tweet = re.sub(r'http\\S+|@\\w+|[^a-z\\s]', '', tweet)\n",
        "    tokens = tweet.split()\n",
        "    tokens = [lemmatizer.lemmatize(w) for w in tokens if w not in stop_words]\n",
        "    return \" \".join(tokens)\n",
        "\n",
        "df['cleaned'] = df['tweet'].apply(clean_tweet)\n",
        "\n",
        "# ✅ Feature extraction: TF-IDF + n-grams\n",
        "vectorizer = TfidfVectorizer(ngram_range=(1, 2))\n",
        "X = vectorizer.fit_transform(df['cleaned'])\n",
        "y = df['sentiment']\n",
        "\n",
        "# ✅ Train Logistic Regression model\n",
        "model = LogisticRegression()\n",
        "model.fit(X, y)\n",
        "\n",
        "# ✅ Gradio prediction function\n",
        "def predict_sentiment(text):\n",
        "    cleaned = clean_tweet(text)\n",
        "    vec = vectorizer.transform([cleaned])\n",
        "    prob = model.predict_proba(vec)[0][1]  # probability of class 1\n",
        "    if prob > 0.6:\n",
        "        return f\"🟢 Sentiment: Positive (Confidence: {prob:.2f})\"\n",
        "    elif prob < 0.4:\n",
        "        return f\"🔴 Sentiment: Negative (Confidence: {1 - prob:.2f})\"\n",
        "    else:\n",
        "        return f\"🟡 Sentiment: Neutral/Uncertain (Confidence: {prob:.2f})\"\n",
        "\n",
        "# ✅ Gradio Interface\n",
        "demo = gr.Interface(\n",
        "    fn=predict_sentiment,\n",
        "    inputs=gr.Textbox(lines=3, placeholder=\"Enter a tweet or sentence...\"),\n",
        "    outputs=\"text\",\n",
        "    title=\"🔍 Real-Time Tweet Sentiment Classifier\",\n",
        "    description=\"Uses logistic regression trained on real tweets to predict whether sentiment is Positive, Negative, or Neutral. Based on TF-IDF and preprocessing with NLTK.\"\n",
        ")\n",
        "\n",
        "# ✅ Launch Gradio app\n",
        "demo.launch(share=True)  # Use share=True to get a public link in Colab\n"
      ],
      "metadata": {
        "id": "V6WbSaxnoEhm"
      },
      "execution_count": null,
      "outputs": []
    }
  ]
}