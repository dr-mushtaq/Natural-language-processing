{
  "nbformat": 4,
  "nbformat_minor": 0,
  "metadata": {
    "colab": {
      "provenance": [],
      "toc_visible": true,
      "authorship_tag": "ABX9TyONp6r/hmgMDuJ9UQG6SzQj",
      "include_colab_link": true
    },
    "kernelspec": {
      "name": "python3",
      "display_name": "Python 3"
    },
    "language_info": {
      "name": "python"
    }
  },
  "cells": [
    {
      "cell_type": "markdown",
      "metadata": {
        "id": "view-in-github",
        "colab_type": "text"
      },
      "source": [
        "<a href=\"https://colab.research.google.com/github/hussain0048/Natural-language-processing/blob/main/spacy_library.ipynb\" target=\"_parent\"><img src=\"https://colab.research.google.com/assets/colab-badge.svg\" alt=\"Open In Colab\"/></a>"
      ]
    },
    {
      "cell_type": "code",
      "execution_count": null,
      "metadata": {
        "id": "eEPgbrg4cVEd"
      },
      "outputs": [],
      "source": []
    },
    {
      "cell_type": "markdown",
      "source": [
        "# **Tokenization**"
      ],
      "metadata": {
        "id": "qUUSVgYnfC42"
      }
    },
    {
      "cell_type": "code",
      "source": [
        "#import library\n",
        "import spacy\n",
        "#Loading spacy english library\n",
        "load_en = spacy.load('en_core_web_sm')\n",
        "#take an example of string\n",
        "example_string = \"I'm going to meet\\ M.S. Dhoni.\"\n",
        "#load string to library \n",
        "words = load_en(example_string)\n",
        "#getting tokens pieces with for loop\n",
        "for tokens in words:\n",
        "    print(tokens.text)"
      ],
      "metadata": {
        "id": "5QxuO31EfK8x"
      },
      "execution_count": null,
      "outputs": []
    },
    {
      "cell_type": "markdown",
      "source": [
        "# **Lemmatization**"
      ],
      "metadata": {
        "id": "o2b9FyZBkqAD"
      }
    },
    {
      "cell_type": "code",
      "source": [
        "#import library\n",
        "import spacy\n",
        "#Loading spacy english library\n",
        "load_en = spacy.load('en_core_web_sm')\n",
        "#take an example of string\n",
        "example_string = load_en(u\"I'm happy in this happiest place with all happiness. It feels how happier we are\")\n",
        "for lem_word in example_string:\n",
        "    print(lem_word.text, '\\t', lem_word.pos_, '\\t', lem_word.lemma, '\\t', lem_word.lemma_)"
      ],
      "metadata": {
        "id": "dtXY32TfkvBS"
      },
      "execution_count": null,
      "outputs": []
    },
    {
      "cell_type": "markdown",
      "source": [
        "# **Stop Words**"
      ],
      "metadata": {
        "id": "WcaMYPcIk9uS"
      }
    },
    {
      "cell_type": "code",
      "source": [
        "#import library\n",
        "import spacy\n",
        "#Loading spacy english library\n",
        "load_en = spacy.load('en_core_web_sm')\n",
        "print(load_en.Defaults.stop_words)"
      ],
      "metadata": {
        "id": "yOKjtqYGlLrj"
      },
      "execution_count": null,
      "outputs": []
    }
  ]
}