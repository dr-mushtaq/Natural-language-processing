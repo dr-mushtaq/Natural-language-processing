{
  "nbformat": 4,
  "nbformat_minor": 0,
  "metadata": {
    "colab": {
      "provenance": [],
      "toc_visible": true,
      "authorship_tag": "ABX9TyMP/tpj0ettcLvWOlbw3Fz3",
      "include_colab_link": true
    },
    "kernelspec": {
      "name": "python3",
      "display_name": "Python 3"
    },
    "language_info": {
      "name": "python"
    }
  },
  "cells": [
    {
      "cell_type": "markdown",
      "metadata": {
        "id": "view-in-github",
        "colab_type": "text"
      },
      "source": [
        "<a href=\"https://colab.research.google.com/github/hussain0048/Natural-language-processing/blob/main/Nltk_library.ipynb\" target=\"_parent\"><img src=\"https://colab.research.google.com/assets/colab-badge.svg\" alt=\"Open In Colab\"/></a>"
      ]
    },
    {
      "cell_type": "markdown",
      "source": [
        "# **1- Nltk library (Biginer Level)**\n"
      ],
      "metadata": {
        "id": "EUFNy2YoFO6n"
      }
    },
    {
      "cell_type": "markdown",
      "source": [
        "## **What is NLTK**"
      ],
      "metadata": {
        "id": "7EScBCgcFZQp"
      }
    },
    {
      "cell_type": "code",
      "execution_count": 1,
      "metadata": {
        "id": "OKzBfSvSFIWI"
      },
      "outputs": [],
      "source": [
        "from nltk.tokenize import word_tokenize "
      ]
    },
    {
      "cell_type": "code",
      "source": [
        "import nltk\n",
        "nltk.download('punkt')"
      ],
      "metadata": {
        "colab": {
          "base_uri": "https://localhost:8080/"
        },
        "id": "p-fI_e_wGP-u",
        "outputId": "c98749c7-6967-4dc6-8421-50d2e6c1f05c"
      },
      "execution_count": 7,
      "outputs": [
        {
          "output_type": "stream",
          "name": "stderr",
          "text": [
            "[nltk_data] Downloading package punkt to /root/nltk_data...\n",
            "[nltk_data]   Unzipping tokenizers/punkt.zip.\n"
          ]
        },
        {
          "output_type": "execute_result",
          "data": {
            "text/plain": [
              "True"
            ]
          },
          "metadata": {},
          "execution_count": 7
        }
      ]
    },
    {
      "cell_type": "code",
      "source": [
        "word_tokenize(\"Hi There\")"
      ],
      "metadata": {
        "id": "PkSH9WbLF_DY"
      },
      "execution_count": null,
      "outputs": []
    }
  ]
}