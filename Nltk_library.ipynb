{
  "nbformat": 4,
  "nbformat_minor": 0,
  "metadata": {
    "colab": {
      "provenance": [],
      "toc_visible": true,
      "authorship_tag": "ABX9TyNfdC+6AXjHvjplRuxAO8Vp",
      "include_colab_link": true
    },
    "kernelspec": {
      "name": "python3",
      "display_name": "Python 3"
    },
    "language_info": {
      "name": "python"
    }
  },
  "cells": [
    {
      "cell_type": "markdown",
      "metadata": {
        "id": "view-in-github",
        "colab_type": "text"
      },
      "source": [
        "<a href=\"https://colab.research.google.com/github/hussain0048/Natural-language-processing/blob/main/Nltk_library.ipynb\" target=\"_parent\"><img src=\"https://colab.research.google.com/assets/colab-badge.svg\" alt=\"Open In Colab\"/></a>"
      ]
    },
    {
      "cell_type": "markdown",
      "source": [
        "# **1- Nltk library (Biginer Level)**\n"
      ],
      "metadata": {
        "id": "EUFNy2YoFO6n"
      }
    },
    {
      "cell_type": "markdown",
      "source": [
        "# **1-Reading text Data**"
      ],
      "metadata": {
        "id": "K3jviVUkVOGd"
      }
    },
    {
      "cell_type": "code",
      "source": [
        "with open('data.txt', 'r') as f:\n",
        "text = f.read()"
      ],
      "metadata": {
        "id": "vMvAqC6nVflY"
      },
      "execution_count": null,
      "outputs": []
    },
    {
      "cell_type": "markdown",
      "source": [
        "## **2-What is NLTK**"
      ],
      "metadata": {
        "id": "7EScBCgcFZQp"
      }
    },
    {
      "cell_type": "code",
      "execution_count": null,
      "metadata": {
        "id": "OKzBfSvSFIWI"
      },
      "outputs": [],
      "source": [
        "from nltk.tokenize import word_tokenize "
      ]
    },
    {
      "cell_type": "code",
      "source": [
        "import nltk\n",
        "nltk.download('punkt')"
      ],
      "metadata": {
        "colab": {
          "base_uri": "https://localhost:8080/"
        },
        "id": "p-fI_e_wGP-u",
        "outputId": "c98749c7-6967-4dc6-8421-50d2e6c1f05c"
      },
      "execution_count": null,
      "outputs": [
        {
          "output_type": "stream",
          "name": "stderr",
          "text": [
            "[nltk_data] Downloading package punkt to /root/nltk_data...\n",
            "[nltk_data]   Unzipping tokenizers/punkt.zip.\n"
          ]
        },
        {
          "output_type": "execute_result",
          "data": {
            "text/plain": [
              "True"
            ]
          },
          "metadata": {},
          "execution_count": 7
        }
      ]
    },
    {
      "cell_type": "code",
      "source": [
        "word_tokenize(\"Hi There\")"
      ],
      "metadata": {
        "id": "PkSH9WbLF_DY"
      },
      "execution_count": null,
      "outputs": []
    },
    {
      "cell_type": "markdown",
      "source": [
        "##**3-Preprocessing text Data for NLP**"
      ],
      "metadata": {
        "id": "MCJXAbX8UqWe"
      }
    },
    {
      "cell_type": "markdown",
      "source": [
        "###**3.1-Tokenization**"
      ],
      "metadata": {
        "id": "TyC0lRbRU2qn"
      }
    },
    {
      "cell_type": "code",
      "source": [
        "import nltk\n",
        "# Download the required resources\n",
        "nltk.download('punkt')\n",
        "# Tokenize text\n",
        "text = \"This is an example sentence.\"\n",
        "tokens = nltk.word_tokenize(text)\n",
        "print(tokens)"
      ],
      "metadata": {
        "id": "5xM3XhbKVFAR"
      },
      "execution_count": null,
      "outputs": []
    },
    {
      "cell_type": "markdown",
      "source": [
        "###**3.2-Stop word removal**"
      ],
      "metadata": {
        "id": "g7ecqWlXbp5_"
      }
    },
    {
      "cell_type": "code",
      "source": [
        "import nltk\n",
        "# Download the required resources\n",
        "nltk.download('stopwords')\n",
        "from nltk.corpus import stopwords\n",
        "# Remove stop words\n",
        "text = \"This is an example sentence.\"\n",
        "tokens = nltk.word_tokenize(text)\n",
        "filtered_tokens = [word for word in tokens if word.lower() not in stopwords.words('english')]\n",
        "print(filtered_tokens)"
      ],
      "metadata": {
        "id": "IbXv4XZib5Q2"
      },
      "execution_count": null,
      "outputs": []
    },
    {
      "cell_type": "markdown",
      "source": [
        "### **3.3-Stemming**"
      ],
      "metadata": {
        "id": "bd9RCpXmcBSu"
      }
    },
    {
      "cell_type": "code",
      "source": [
        "import nltk\n",
        "# Stem text\n",
        "text = \"This is an example sentence.\"\n",
        "tokens = nltk.word_tokenize(text)\n",
        "stemmer = nltk.PorterStemmer()\n",
        "stemmed_tokens = [stemmer.stem(token) for token in tokens]\n",
        "print(stemmed_tokens)\n"
      ],
      "metadata": {
        "id": "U-1Wn1XAcMuu",
        "outputId": "a5a47803-4a4e-4210-8dac-df66099bcfd7",
        "colab": {
          "base_uri": "https://localhost:8080/"
        }
      },
      "execution_count": 3,
      "outputs": [
        {
          "output_type": "stream",
          "name": "stdout",
          "text": [
            "['thi', 'is', 'an', 'exampl', 'sentenc', '.']\n"
          ]
        }
      ]
    },
    {
      "cell_type": "markdown",
      "source": [
        "### **3.4-Lemmatization**"
      ],
      "metadata": {
        "id": "SCW7zfjRcSiF"
      }
    },
    {
      "cell_type": "code",
      "source": [
        "import nltk\n",
        "# Lemmatize text\n",
        "text = \"This is an example sentence.\"\n",
        "tokens = nltk.word_tokenize(text)\n",
        "lemmatizer = nltk.WordNetLemmatizer()\n",
        "lemmatized_tokens = [lemmatizer.lemmatize(token) for token in tokens]\n",
        "print(lemmatized_tokens)"
      ],
      "metadata": {
        "id": "a4R2eg_ncbPG"
      },
      "execution_count": null,
      "outputs": []
    },
    {
      "cell_type": "markdown",
      "source": [
        "##**Exercise**"
      ],
      "metadata": {
        "id": "ImBpTZqPGL4-"
      }
    },
    {
      "cell_type": "markdown",
      "source": [
        "**Word tokenization with NLTK**"
      ],
      "metadata": {
        "id": "_4ehqVO0GKNc"
      }
    },
    {
      "cell_type": "markdown",
      "source": [
        "Here, you'll be using the first scene of Monty Python's Holy Grail, which has been pre-loaded as scene_one. Feel free to check it out in the IPython Shell!\n",
        "\n",
        "Your job in this exercise is to utilize word_tokenize and sent_tokenize from nltk.tokenize to tokenize both words and sentences from Python strings - in this case, the first scene of Monty Python's Holy Grail.\n",
        "\n",
        "**Instructions**\n",
        "100 XP\n",
        "Instructions\n",
        "100 XP\n",
        "Import the sent_tokenize and word_tokenize functions from nltk.tokenize.\n",
        "Tokenize all the sentences in scene_one using the sent_tokenize() function.\n",
        "Tokenize the fourth sentence in sentences, which you can access as sentences[3], using the word_tokenize() function.\n",
        "Find the unique tokens in the entire scene by using word_tokenize() on scene_one and then converting it into a set using set().\n",
        "Print the unique tokens found. This has been done for you, so hit 'Submit Answer' to see the results!\n",
        "\n",
        "Hint\n",
        "Use the command from y import x to import x from y.\n",
        "Use the sent_tokenize() function to tokenize the sentences in scene_one.\n",
        "Use word_tokenize() to tokenize the appropriate sentence in sentences. Remember, Python uses 0-based numbering.\n",
        "After using word_tokenize() on scene_one, use the set() function to convert it into a set."
      ],
      "metadata": {
        "id": "jU7EiXVXGr57"
      }
    },
    {
      "cell_type": "markdown",
      "source": [
        "![](https://drive.google.com/uc?export=view&id=1pW2b2sBv3Asc9cIVM4HQs05JRWFyATBf)"
      ],
      "metadata": {
        "id": "Kl15i1zjF-H8"
      }
    },
    {
      "cell_type": "code",
      "source": [],
      "metadata": {
        "id": "OJItihnNF-oF"
      },
      "execution_count": null,
      "outputs": []
    }
  ]
}