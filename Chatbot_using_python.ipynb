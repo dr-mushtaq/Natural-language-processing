{
  "nbformat": 4,
  "nbformat_minor": 0,
  "metadata": {
    "colab": {
      "provenance": [],
      "toc_visible": true,
      "include_colab_link": true
    },
    "kernelspec": {
      "name": "python3",
      "display_name": "Python 3"
    },
    "language_info": {
      "name": "python"
    }
  },
  "cells": [
    {
      "cell_type": "markdown",
      "metadata": {
        "id": "view-in-github",
        "colab_type": "text"
      },
      "source": [
        "<a href=\"https://colab.research.google.com/github/hussain0048/Natural-language-processing/blob/main/Chatbot_using_python.ipynb\" target=\"_parent\"><img src=\"https://colab.research.google.com/assets/colab-badge.svg\" alt=\"Open In Colab\"/></a>"
      ]
    },
    {
      "cell_type": "markdown",
      "source": [
        "# **Chatbots 101**"
      ],
      "metadata": {
        "id": "ol-GsPKv40Mx"
      }
    },
    {
      "cell_type": "markdown",
      "source": [
        "## **1.1 Introduction to conversational software**"
      ],
      "metadata": {
        "id": "oPDqoKYR45Hp"
      }
    },
    {
      "cell_type": "markdown",
      "source": [
        "### **EchoBot I**\n",
        "\n"
      ],
      "metadata": {
        "id": "x0oYt6W25JXB"
      }
    },
    {
      "cell_type": "markdown",
      "source": [
        "**EchoBot I**\n",
        "\n",
        "Hello, World!\n",
        "\n",
        "You'll begin learning how to build chatbots in Python by writing two functions to build the simplest bot possible: EchoBot. EchoBot just responds by replying with the same message it receives.\n",
        "\n",
        "In this exercise, you'll define a function that responds to a user's message. In the next exercise, you'll complete EchoBot by writing a function to send a message to the bot.\n",
        "\n",
        "**Instructions:**\n",
        "\n",
        "Write a function called respond() with a single parameter message which returns the bot's response. To do this, concatenate the strings \"I can hear you! You said: \" and message.\n",
        "Store the concatenated strings in bot_message, and return this result."
      ],
      "metadata": {
        "id": "14O-J5ErEQO2"
      }
    },
    {
      "cell_type": "code",
      "source": [
        "bot_template = \"BOT : {0}\"\n",
        "user_template = \"USER : {0}\"\n",
        "\n",
        "# Define a function that responds to a user's message: respond\n",
        "def respond(message):\n",
        "    # Concatenate the user's message to the end of a standard bot respone\n",
        "    bot_message = \"I can hear you! You said: \" + message\n",
        "    # Return the result\n",
        "    return bot_message\n",
        "\n",
        "# Test function\n",
        "print(respond(\"hello!\"))"
      ],
      "metadata": {
        "id": "wOk9TF5TEr8k",
        "colab": {
          "base_uri": "https://localhost:8080/"
        },
        "outputId": "609dc140-e07f-4a08-f3c6-bbbf71937445"
      },
      "execution_count": null,
      "outputs": [
        {
          "output_type": "stream",
          "name": "stdout",
          "text": [
            "I can hear you! You said: hello!\n"
          ]
        }
      ]
    },
    {
      "cell_type": "markdown",
      "source": [
        "### **EchoBot II**"
      ],
      "metadata": {
        "id": "4sQGPWoQ_2fq"
      }
    },
    {
      "cell_type": "markdown",
      "source": [
        "**EchoBot II**\n",
        "\n",
        "Having written your respond() function, you'll now define a function called send_message() with a single parameter message which logs the message and the bot's response.\n",
        "\n",
        "**Instructions:**\n",
        "\n",
        "Use the user_template string's .format() method to include the user's message into the user template, and print the result.\n",
        "Call the respond() function with the message passed in and save the result as response.\n",
        "Log the bot's response using the bot_template string's .format() method.\n",
        "Send the message \"hello\" to the bot."
      ],
      "metadata": {
        "id": "bp9th4otAOUv"
      }
    },
    {
      "cell_type": "code",
      "source": [
        "# Create templates\n",
        "bot_template = \"BOT : {0}\"\n",
        "user_template = \"USER : {0}\"\n",
        "\n",
        "# Define a function that responds to a user's message: respond\n",
        "\n",
        "\n",
        "def respond(message):\n",
        "    # Concatenate the user's message to the end of a standard bot respone\n",
        "    bot_message = \"I can hear you! You said: \" + message\n",
        "    # Return the result\n",
        "    return bot_message\n",
        "    \n",
        "# Define a function that sends a message to the bot: send_message\n",
        "\n",
        "\n",
        "def send_message(message):\n",
        "    # Print user_template including the user_message\n",
        "    print(user_template.format(message))\n",
        "    # Get the bot's response to the message\n",
        "    response = respond(message)\n",
        "    # Print the bot template including the bot's response.\n",
        "    print(bot_template.format(response))\n",
        "\n",
        "\n",
        "# Send a message to the bot\n",
        "send_message(\"hello\")\n"
      ],
      "metadata": {
        "id": "IB9lVcwSAgG3",
        "outputId": "3e446084-e0b8-4096-c435-1e9e26d3e6a9",
        "colab": {
          "base_uri": "https://localhost:8080/"
        }
      },
      "execution_count": null,
      "outputs": [
        {
          "output_type": "stream",
          "name": "stdout",
          "text": [
            "USER : hello\n",
            "BOT : I can hear you! You said: hello\n"
          ]
        }
      ]
    },
    {
      "cell_type": "markdown",
      "source": [
        "## **1.2- Creating a personality**"
      ],
      "metadata": {
        "id": "SBbDEuQFDB99"
      }
    },
    {
      "cell_type": "markdown",
      "source": [
        "### **Chitchat**"
      ],
      "metadata": {
        "id": "hWhVYcTCAzk_"
      }
    },
    {
      "cell_type": "markdown",
      "source": [
        "**Chitchat**\n",
        "\n",
        "Now you're going to leave the simple EchoBot behind and create a bot which can answer simple questions such as \"What's your name?\" and \"What's today's weather?\"\n",
        "\n",
        "You'll use a dictionary with these questions as keys and the correct responses as values.\n",
        "\n",
        "This means the bot will only respond correctly if the message matches exactly, which is a big limitation. In later exercises you will create much more robust solutions.\n",
        "\n",
        "The send_message() function has already been defined for you, as well as the bot_template and user_template variables.\n",
        "\n",
        "**Instructions:**\n",
        "\n",
        "Define a respond() function which takes in a message argument, checks if the message has a pre-defined response, and returns the response in the responses dictionary if there is a match, or the \"default\" message otherwise."
      ],
      "metadata": {
        "id": "me-zjBs6A_kR"
      }
    },
    {
      "cell_type": "code",
      "source": [
        "# Define variables\n",
        "name = \"Greg\"\n",
        "weather = \"cloudy\"\n",
        "\n",
        "# Define a dictionary with the predefined responses\n",
        "responses = {\n",
        "  \"what's your name?\": \"my name is {0}\".format(name),\n",
        "  \"what's today's weather?\": \"the weather is {0}\".format(weather),\n",
        "  \"default\": \"default message\"\n",
        "}\n",
        "\n",
        "# Return the matching response if there is one, default otherwise\n",
        "def respond(message):\n",
        "    # Check if the message is in the responses\n",
        "    if message in responses:\n",
        "        # Return the matching message\n",
        "        bot_message = responses[message]\n",
        "    else:\n",
        "        # Return the \"default\" message\n",
        "        bot_message = responses[\"default\"]\n",
        "    return bot_message\n",
        "\n",
        "# Test function\n",
        "print(respond(\"what's your name?\"))\n",
        "print(respond(\"what's today's weather?\"))"
      ],
      "metadata": {
        "id": "8pIeGT5mBcET",
        "outputId": "e6e0b379-10e1-48cf-f685-090dad9ba234",
        "colab": {
          "base_uri": "https://localhost:8080/"
        }
      },
      "execution_count": null,
      "outputs": [
        {
          "output_type": "stream",
          "name": "stdout",
          "text": [
            "my name is Greg\n",
            "the weather is cloudy\n"
          ]
        }
      ]
    },
    {
      "cell_type": "markdown",
      "source": [
        "### **Adding variety**"
      ],
      "metadata": {
        "id": "34jIwVTcB1ET"
      }
    },
    {
      "cell_type": "markdown",
      "source": [
        "**Adding variety**\n",
        "\n",
        "It can get a little boring hearing the same old answers over and over. In this exercise, you'll add some variation. If you ask your bot how it's feeling, the likelihood that it responds with \"oh I'm great!\" or \"I'm very sad today\" should be equal.\n",
        "\n",
        "Here, you'll use the random module - specifically random.choice(ls) - which randomly selects an element from a list ls.\n",
        "\n",
        "A dictionary called responses, which maps each message to a list of possible responses, has been defined for you.\n",
        "\n",
        "**Instructions:**\n",
        "\n",
        "Great job! Adding some variety makes your bot much more fun to talk to. Now, hit 'Run Code' and use send_message() (which utilizes the new respond() function) to ask the bot \"what's your name?\" 3 times.\n",
        "Hit 'Submit Answer' when you're done."
      ],
      "metadata": {
        "id": "eGPKOSZrCC0j"
      }
    },
    {
      "cell_type": "code",
      "source": [
        "# Import the random module\n",
        "import random\n",
        "\n",
        "name = \"Greg\"\n",
        "weather = \"cloudy\"\n",
        "\n",
        "# Define a dictionary containing a list of responses for each message\n",
        "responses = {\n",
        "  \"what's your name?\": [\n",
        "      \"my name is {0}\".format(name),\n",
        "      \"they call me {0}\".format(name),\n",
        "      \"I go by {0}\".format(name)\n",
        "   ],\n",
        "  \"what's today's weather?\": [\n",
        "      \"The weather is {0}\".format(weather),\n",
        "      \"it's {0} today\".format(weather)\n",
        "    ],\n",
        "  \"default\": [\"default message\"]\n",
        "}\n",
        "\n",
        "# Use random.choice() to choose a matching response\n",
        "def respond(message):\n",
        "    # Check if the message is in the responses\n",
        "    if message in responses:\n",
        "        # Return a random matching response\n",
        "        bot_message = random.choice(responses[message])\n",
        "    else:\n",
        "        # Return a random \"default\" response\n",
        "        bot_message = random.choice(responses[\"default\"])\n",
        "    return bot_message\n",
        "\n",
        "# Test function\n",
        "print(respond(\"what's today's weather?\"))"
      ],
      "metadata": {
        "id": "zXlZJKgWCN0L",
        "colab": {
          "base_uri": "https://localhost:8080/"
        },
        "outputId": "fb350fe4-211d-4ce6-95bd-7cb027bf4f4a"
      },
      "execution_count": null,
      "outputs": [
        {
          "output_type": "stream",
          "name": "stdout",
          "text": [
            "it's cloudy today\n"
          ]
        }
      ]
    },
    {
      "cell_type": "markdown",
      "source": [
        "### **ELIZA I: asking questions**"
      ],
      "metadata": {
        "id": "glP68mzFDUlU"
      }
    },
    {
      "cell_type": "code",
      "source": [
        "import random\n",
        "\n",
        "def respond(message):\n",
        "    # Check for a question mark\n",
        "    if message.endswith(\"?\"):\n",
        "        # Return a random question\n",
        "        return random.choice(responses[message])\n",
        "    # Return a random statement\n",
        "    return random.choice(responses[\"default\"])\n",
        "\n",
        "\n",
        "# Send messages ending in a question mark\n",
        "send_message(\"what's today's weather?\")\n",
        "send_message(\"what's today's weather?\")\n",
        "\n",
        "# Send messages which don't end with a question mark\n",
        "send_message(\"I love building chatbots\")\n",
        "send_message(\"I love building chatbots\")"
      ],
      "metadata": {
        "colab": {
          "base_uri": "https://localhost:8080/",
          "height": 235
        },
        "id": "Mz5vCHf5S144",
        "outputId": "4a1cbe4f-fcc4-4e4a-da07-63364819ef58"
      },
      "execution_count": null,
      "outputs": [
        {
          "output_type": "error",
          "ename": "NameError",
          "evalue": "ignored",
          "traceback": [
            "\u001b[0;31m---------------------------------------------------------------------------\u001b[0m",
            "\u001b[0;31mNameError\u001b[0m                                 Traceback (most recent call last)",
            "\u001b[0;32m<ipython-input-11-62c5739d7e4c>\u001b[0m in \u001b[0;36m<module>\u001b[0;34m\u001b[0m\n\u001b[1;32m     11\u001b[0m \u001b[0;34m\u001b[0m\u001b[0m\n\u001b[1;32m     12\u001b[0m \u001b[0;31m# Send messages ending in a question mark\u001b[0m\u001b[0;34m\u001b[0m\u001b[0;34m\u001b[0m\u001b[0;34m\u001b[0m\u001b[0m\n\u001b[0;32m---> 13\u001b[0;31m \u001b[0msend_message\u001b[0m\u001b[0;34m(\u001b[0m\u001b[0;34m\"what's today's weather?\"\u001b[0m\u001b[0;34m)\u001b[0m\u001b[0;34m\u001b[0m\u001b[0;34m\u001b[0m\u001b[0m\n\u001b[0m\u001b[1;32m     14\u001b[0m \u001b[0msend_message\u001b[0m\u001b[0;34m(\u001b[0m\u001b[0;34m\"what's today's weather?\"\u001b[0m\u001b[0;34m)\u001b[0m\u001b[0;34m\u001b[0m\u001b[0;34m\u001b[0m\u001b[0m\n\u001b[1;32m     15\u001b[0m \u001b[0;34m\u001b[0m\u001b[0m\n",
            "\u001b[0;31mNameError\u001b[0m: name 'send_message' is not defined"
          ]
        }
      ]
    },
    {
      "cell_type": "markdown",
      "source": [
        "##1.3 **Text processing with regular expressions**"
      ],
      "metadata": {
        "id": "x8mZJWWQDr1z"
      }
    },
    {
      "cell_type": "markdown",
      "source": [
        "#### **ELIZA II: Extracting key phrases**"
      ],
      "metadata": {
        "id": "BmEcO-ai25dZ"
      }
    },
    {
      "cell_type": "markdown",
      "source": [
        "The really clever thing about ELIZA is the way the program appears to understand what you told it by occasionally including phrases uttered by the user in its responses.\n",
        "\n",
        "In this exercise, you will match messages against some common patterns and extract phrases using re.search(). A dictionary called rules has already been defined, which matches the following patterns:\n",
        "\n",
        "\"do you think (.*)\"\n",
        "\"do you remember (.*)\"\n",
        "\"I want (.*)\"\n",
        "\"if (.*)\"\n",
        "Inspect this dictionary in the Shell before starting the exercise.\n",
        "\n",
        "**Instructions**\n",
        "\n",
        "Iterate over the rules dictionary using its .items() method, with pattern and responses as your iterator variables.\n",
        "Use re.search() with the pattern and message to create a match object.\n",
        "If there is a match, use random.choice() to pick a response.\n",
        "If '{0}' is in that response, use the match object's .group() method with index 1 to retrieve a phrase."
      ],
      "metadata": {
        "id": "XUPlfDEu8u8S"
      }
    },
    {
      "cell_type": "code",
      "source": [
        "# Define match_rule()\n",
        "def match_rule(rules, message):\n",
        "    response, phrase = \"default\", None\n",
        "    \n",
        "    # Iterate over the rules dictionary\n",
        "    for pattern, responses in rules.items():\n",
        "        # Create a match object\n",
        "        match = re.search(pattern, message)\n",
        "        if match is not None:\n",
        "            # Choose a random response\n",
        "            response = random.choice(responses)\n",
        "            if '{0}' in response:\n",
        "                phrase = match.group(1)\n",
        "    # Return the response and phrase\n",
        "    return response.format(phrase)\n",
        "\n",
        "# Test match_rule\n",
        "print(match_rule(rules, \"do you remember your last birthday\"))"
      ],
      "metadata": {
        "id": "c1RDExfv4_Dd",
        "outputId": "51079f2b-9b97-47af-c686-904e8254e3dc",
        "colab": {
          "base_uri": "https://localhost:8080/",
          "height": 200
        }
      },
      "execution_count": null,
      "outputs": [
        {
          "output_type": "error",
          "ename": "NameError",
          "evalue": "ignored",
          "traceback": [
            "\u001b[0;31m---------------------------------------------------------------------------\u001b[0m",
            "\u001b[0;31mNameError\u001b[0m                                 Traceback (most recent call last)",
            "\u001b[0;32m<ipython-input-13-21e439c93515>\u001b[0m in \u001b[0;36m<module>\u001b[0;34m\u001b[0m\n\u001b[1;32m     16\u001b[0m \u001b[0;34m\u001b[0m\u001b[0m\n\u001b[1;32m     17\u001b[0m \u001b[0;31m# Test match_rule\u001b[0m\u001b[0;34m\u001b[0m\u001b[0;34m\u001b[0m\u001b[0;34m\u001b[0m\u001b[0m\n\u001b[0;32m---> 18\u001b[0;31m \u001b[0mprint\u001b[0m\u001b[0;34m(\u001b[0m\u001b[0mmatch_rule\u001b[0m\u001b[0;34m(\u001b[0m\u001b[0mrules\u001b[0m\u001b[0;34m,\u001b[0m \u001b[0;34m\"do you remember your last birthday\"\u001b[0m\u001b[0;34m)\u001b[0m\u001b[0;34m)\u001b[0m\u001b[0;34m\u001b[0m\u001b[0;34m\u001b[0m\u001b[0m\n\u001b[0m",
            "\u001b[0;31mNameError\u001b[0m: name 'rules' is not defined"
          ]
        }
      ]
    },
    {
      "cell_type": "markdown",
      "source": [
        "### **ELIZA III: Pronouns**"
      ],
      "metadata": {
        "id": "GUts2xT53h9I"
      }
    },
    {
      "cell_type": "markdown",
      "source": [
        "ELIZA III: Pronouns\n",
        "To make responses grammatically coherent, you'll want to transform the extracted phrases from first to second person and vice versa. In English, conjugating verbs is easy, and simply swapping \"me\" and 'you', \"my\" and \"your\" works in most cases.\n",
        "\n",
        "In this exercise, you'll define a function called replace_pronouns() which uses re.sub() to map \"me\" and \"my\" to \"you\" and \"your\" (and vice versa) in a string.\n",
        "\n",
        "**Instructions**\n",
        "\n",
        "If 'me' is in message, use re.sub() to replace it with 'you'.\n",
        "If 'my' is in message, replace it with 'your'.\n",
        "If 'your' is in message, replace it with 'my'.\n",
        "If 'you' is in message, replace it with 'me'."
      ],
      "metadata": {
        "id": "gsefY6hw9DoY"
      }
    },
    {
      "cell_type": "code",
      "source": [
        "# Define replace_pronouns()\n",
        "def replace_pronouns(message):\n",
        "\n",
        "    message = message.lower()\n",
        "    if 'me' in message:\n",
        "        # Replace 'me' with 'you'\n",
        "        return re.sub('me', 'you', message)\n",
        "    if 'my' in message:\n",
        "        # Replace 'my' with 'your'\n",
        "        return re.sub('my', 'your', message)\n",
        "    if 'your' in message:\n",
        "        # Replace 'your' with 'my'\n",
        "        return re.sub('your', 'my', message)\n",
        "    if 'you' in message:\n",
        "        # Replace 'you' with 'me'\n",
        "        return re.sub('you', 'me', message)\n",
        "\n",
        "    return message\n",
        "\n",
        "print(replace_pronouns(\"my last birthday\"))\n",
        "print(replace_pronouns(\"when you went to Florida\"))\n",
        "print(replace_pronouns(\"I had my own castle\"))"
      ],
      "metadata": {
        "id": "E1EanW9n2-xH",
        "outputId": "96161de8-867e-491e-b290-421b3529aa65",
        "colab": {
          "base_uri": "https://localhost:8080/",
          "height": 356
        }
      },
      "execution_count": null,
      "outputs": [
        {
          "output_type": "error",
          "ename": "NameError",
          "evalue": "ignored",
          "traceback": [
            "\u001b[0;31m---------------------------------------------------------------------------\u001b[0m",
            "\u001b[0;31mNameError\u001b[0m                                 Traceback (most recent call last)",
            "\u001b[0;32m<ipython-input-14-a5dfe9084373>\u001b[0m in \u001b[0;36m<module>\u001b[0;34m\u001b[0m\n\u001b[1;32m     18\u001b[0m     \u001b[0;32mreturn\u001b[0m \u001b[0mmessage\u001b[0m\u001b[0;34m\u001b[0m\u001b[0;34m\u001b[0m\u001b[0m\n\u001b[1;32m     19\u001b[0m \u001b[0;34m\u001b[0m\u001b[0m\n\u001b[0;32m---> 20\u001b[0;31m \u001b[0mprint\u001b[0m\u001b[0;34m(\u001b[0m\u001b[0mreplace_pronouns\u001b[0m\u001b[0;34m(\u001b[0m\u001b[0;34m\"my last birthday\"\u001b[0m\u001b[0;34m)\u001b[0m\u001b[0;34m)\u001b[0m\u001b[0;34m\u001b[0m\u001b[0;34m\u001b[0m\u001b[0m\n\u001b[0m\u001b[1;32m     21\u001b[0m \u001b[0mprint\u001b[0m\u001b[0;34m(\u001b[0m\u001b[0mreplace_pronouns\u001b[0m\u001b[0;34m(\u001b[0m\u001b[0;34m\"when you went to Florida\"\u001b[0m\u001b[0;34m)\u001b[0m\u001b[0;34m)\u001b[0m\u001b[0;34m\u001b[0m\u001b[0;34m\u001b[0m\u001b[0m\n\u001b[1;32m     22\u001b[0m \u001b[0mprint\u001b[0m\u001b[0;34m(\u001b[0m\u001b[0mreplace_pronouns\u001b[0m\u001b[0;34m(\u001b[0m\u001b[0;34m\"I had my own castle\"\u001b[0m\u001b[0;34m)\u001b[0m\u001b[0;34m)\u001b[0m\u001b[0;34m\u001b[0m\u001b[0;34m\u001b[0m\u001b[0m\n",
            "\u001b[0;32m<ipython-input-14-a5dfe9084373>\u001b[0m in \u001b[0;36mreplace_pronouns\u001b[0;34m(message)\u001b[0m\n\u001b[1;32m      8\u001b[0m     \u001b[0;32mif\u001b[0m \u001b[0;34m'my'\u001b[0m \u001b[0;32min\u001b[0m \u001b[0mmessage\u001b[0m\u001b[0;34m:\u001b[0m\u001b[0;34m\u001b[0m\u001b[0;34m\u001b[0m\u001b[0m\n\u001b[1;32m      9\u001b[0m         \u001b[0;31m# Replace 'my' with 'your'\u001b[0m\u001b[0;34m\u001b[0m\u001b[0;34m\u001b[0m\u001b[0;34m\u001b[0m\u001b[0m\n\u001b[0;32m---> 10\u001b[0;31m         \u001b[0;32mreturn\u001b[0m \u001b[0mre\u001b[0m\u001b[0;34m.\u001b[0m\u001b[0msub\u001b[0m\u001b[0;34m(\u001b[0m\u001b[0;34m'my'\u001b[0m\u001b[0;34m,\u001b[0m \u001b[0;34m'your'\u001b[0m\u001b[0;34m,\u001b[0m \u001b[0mmessage\u001b[0m\u001b[0;34m)\u001b[0m\u001b[0;34m\u001b[0m\u001b[0;34m\u001b[0m\u001b[0m\n\u001b[0m\u001b[1;32m     11\u001b[0m     \u001b[0;32mif\u001b[0m \u001b[0;34m'your'\u001b[0m \u001b[0;32min\u001b[0m \u001b[0mmessage\u001b[0m\u001b[0;34m:\u001b[0m\u001b[0;34m\u001b[0m\u001b[0;34m\u001b[0m\u001b[0m\n\u001b[1;32m     12\u001b[0m         \u001b[0;31m# Replace 'your' with 'my'\u001b[0m\u001b[0;34m\u001b[0m\u001b[0;34m\u001b[0m\u001b[0;34m\u001b[0m\u001b[0m\n",
            "\u001b[0;31mNameError\u001b[0m: name 're' is not defined"
          ]
        }
      ]
    },
    {
      "cell_type": "markdown",
      "source": [
        "### **ELIZA IV: Putting it all together**"
      ],
      "metadata": {
        "id": "97Cj8fjW4YvD"
      }
    },
    {
      "cell_type": "markdown",
      "source": [
        "Now you're going to put everything from the previous exercises together and experience the magic! The match_rule(), send_message(), and replace_pronouns() functions have already been defined, and the rules dictionary is available in your workspace.\n",
        "\n",
        "Your job here is to write a function called respond() with a single argument message which creates an appropriate response to be handled by send_message().\n",
        "**Instructions**\n",
        "\n",
        "Get a response and phrase by calling match_rule() with the rules dictionary and message.\n",
        "Check if the response is a template by seeing if it includes the string '{0}'. If it does:\n",
        "Use the replace_pronouns() function on phrase.\n",
        "Include the phrase by using .format() on response and overriding the value of response.\n",
        "Hit 'Submit Answer' to see how the bot responds to the provided messages!"
      ],
      "metadata": {
        "id": "-kySBG569dPZ"
      }
    },
    {
      "cell_type": "code",
      "source": [
        "def respond(message):\n",
        "    # Call match_rule\n",
        "    response, phrase = match_rule(rules, message)\n",
        "    if '{0}' in response:\n",
        "        # Replace the pronouns in the phrase\n",
        "        phrase = replace_pronouns(phrase)\n",
        "        # Include the phrase in the response\n",
        "        response = response.format(phrase)\n",
        "    return response\n",
        "\n",
        "# Send the messages\n",
        "send_message(\"do you remember your last birthday\")\n",
        "send_message(\"do you think humans should be worried about AI\")\n",
        "send_message(\"I want a robot friend\")\n",
        "send_message(\"what if you could be anything you wanted\")"
      ],
      "metadata": {
        "id": "udOZFBAj3nJO",
        "outputId": "9a986398-a7ac-47e8-cb60-a9937669676d",
        "colab": {
          "base_uri": "https://localhost:8080/",
          "height": 235
        }
      },
      "execution_count": null,
      "outputs": [
        {
          "output_type": "error",
          "ename": "NameError",
          "evalue": "ignored",
          "traceback": [
            "\u001b[0;31m---------------------------------------------------------------------------\u001b[0m",
            "\u001b[0;31mNameError\u001b[0m                                 Traceback (most recent call last)",
            "\u001b[0;32m<ipython-input-8-20bf91cb9830>\u001b[0m in \u001b[0;36m<module>\u001b[0;34m\u001b[0m\n\u001b[1;32m     10\u001b[0m \u001b[0;34m\u001b[0m\u001b[0m\n\u001b[1;32m     11\u001b[0m \u001b[0;31m# Send the messages\u001b[0m\u001b[0;34m\u001b[0m\u001b[0;34m\u001b[0m\u001b[0;34m\u001b[0m\u001b[0m\n\u001b[0;32m---> 12\u001b[0;31m \u001b[0msend_message\u001b[0m\u001b[0;34m(\u001b[0m\u001b[0;34m\"do you remember your last birthday\"\u001b[0m\u001b[0;34m)\u001b[0m\u001b[0;34m\u001b[0m\u001b[0;34m\u001b[0m\u001b[0m\n\u001b[0m\u001b[1;32m     13\u001b[0m \u001b[0msend_message\u001b[0m\u001b[0;34m(\u001b[0m\u001b[0;34m\"do you think humans should be worried about AI\"\u001b[0m\u001b[0;34m)\u001b[0m\u001b[0;34m\u001b[0m\u001b[0;34m\u001b[0m\u001b[0m\n\u001b[1;32m     14\u001b[0m \u001b[0msend_message\u001b[0m\u001b[0;34m(\u001b[0m\u001b[0;34m\"I want a robot friend\"\u001b[0m\u001b[0;34m)\u001b[0m\u001b[0;34m\u001b[0m\u001b[0;34m\u001b[0m\u001b[0m\n",
            "\u001b[0;31mNameError\u001b[0m: name 'send_message' is not defined"
          ]
        }
      ]
    },
    {
      "cell_type": "markdown",
      "source": [
        "**ChatBOT App**"
      ],
      "metadata": {
        "id": "sG1SMfkVgGBd"
      }
    },
    {
      "cell_type": "code",
      "source": [
        "import json \n",
        "import numpy as np \n",
        "import tensorflow as tf\n",
        "from tensorflow import keras\n",
        "from tensorflow.keras.models import Sequential\n",
        "from tensorflow.keras.layers import Dense, Embedding, GlobalAveragePooling1D\n",
        "from tensorflow.keras.preprocessing.text import Tokenizer\n",
        "from tensorflow.keras.preprocessing.sequence import pad_sequences\n",
        "from sklearn.preprocessing import LabelEncoder\n",
        "\n",
        "\n",
        "\n",
        "with open('intents.json') as file:\n",
        "    data = json.load(file)\n",
        "    \n",
        "training_sentences = []\n",
        "training_labels = []\n",
        "labels = []\n",
        "responses = []\n",
        "\n",
        "\n",
        "for intent in data['intents']:\n",
        "    for pattern in intent['patterns']:\n",
        "        training_sentences.append(pattern)\n",
        "        training_labels.append(intent['tag'])\n",
        "    responses.append(intent['responses'])\n",
        "    \n",
        "    if intent['tag'] not in labels:\n",
        "        labels.append(intent['tag'])\n",
        "        \n",
        "num_classes = len(labels)\n",
        "\n",
        "\n",
        "lbl_encoder = LabelEncoder()\n",
        "lbl_encoder.fit(training_labels)\n",
        "training_labels = lbl_encoder.transform(training_labels)\n",
        "\n",
        "\n",
        "vocab_size = 1000\n",
        "embedding_dim = 16\n",
        "max_len = 20\n",
        "oov_token = \"<OOV>\"\n",
        "\n",
        "tokenizer = Tokenizer(num_words=vocab_size, oov_token=oov_token)\n",
        "tokenizer.fit_on_texts(training_sentences)\n",
        "word_index = tokenizer.word_index\n",
        "sequences = tokenizer.texts_to_sequences(training_sentences)\n",
        "padded_sequences = pad_sequences(sequences, truncating='post', maxlen=max_len)\n",
        "\n",
        "\n",
        "model = Sequential()\n",
        "model.add(Embedding(vocab_size, embedding_dim, input_length=max_len))\n",
        "model.add(GlobalAveragePooling1D())\n",
        "model.add(Dense(16, activation='relu'))\n",
        "model.add(Dense(16, activation='relu'))\n",
        "model.add(Dense(num_classes, activation='softmax'))\n",
        "\n",
        "model.compile(loss='sparse_categorical_crossentropy', \n",
        "              optimizer='adam', metrics=['accuracy'])\n",
        "\n",
        "model.summary()\n",
        "\n",
        "\n",
        "epochs = 500\n",
        "history = model.fit(padded_sequences, np.array(training_labels), epochs=epochs)\n",
        "\n",
        "\n",
        "# to save the trained model\n",
        "model.save(\"chat_model\")\n",
        "\n",
        "import pickle\n",
        "\n",
        "# to save the fitted tokenizer\n",
        "with open('tokenizer.pickle', 'wb') as handle:\n",
        "    pickle.dump(tokenizer, handle, protocol=pickle.HIGHEST_PROTOCOL)\n",
        "    \n",
        "# to save the fitted label encoder\n",
        "with open('label_encoder.pickle', 'wb') as ecn_file:\n",
        "    pickle.dump(lbl_encoder, ecn_file, protocol=pickle.HIGHEST_PROTOCOL)"
      ],
      "metadata": {
        "id": "FKs7da2EeBAQ"
      },
      "execution_count": null,
      "outputs": []
    },
    {
      "cell_type": "code",
      "source": [
        "import json \n",
        "import numpy as np\n",
        "from tensorflow import keras\n",
        "from sklearn.preprocessing import LabelEncoder\n",
        "import kivy as kv\n",
        "import PyQt5 as pq\n",
        "\n",
        "\n",
        "import colorama \n",
        "colorama.init()\n",
        "from colorama import Fore, Style, Back\n",
        "\n",
        "import random\n",
        "import pickle\n",
        "\n",
        "with open(\"intents.json\") as file:\n",
        "    data = json.load(file)\n",
        "\n",
        "\n",
        "def chat():\n",
        "    # load trained model\n",
        "    model = keras.models.load_model('chat_model')\n",
        "\n",
        "    # load tokenizer object\n",
        "    with open('tokenizer.pickle', 'rb') as handle:\n",
        "        tokenizer = pickle.load(handle)\n",
        "\n",
        "    # load label encoder object\n",
        "    with open('label_encoder.pickle', 'rb') as enc:\n",
        "        lbl_encoder = pickle.load(enc)\n",
        "\n",
        "    # parameters\n",
        "    max_len = 20\n",
        "    \n",
        "    while True:\n",
        "        print(Fore.LIGHTBLUE_EX + \"User: \" + Style.RESET_ALL, end=\"\")\n",
        "        inp = input()\n",
        "        if inp.lower() == \"quit\":\n",
        "            break\n",
        "\n",
        "        result = model.predict(keras.preprocessing.sequence.pad_sequences(tokenizer.texts_to_sequences([inp]),\n",
        "                                             truncating='post', maxlen=max_len))\n",
        "        tag = lbl_encoder.inverse_transform([np.argmax(result)])\n",
        "\n",
        "        for i in data['intents']:\n",
        "            if i['tag'] == tag:\n",
        "                print(Fore.GREEN + \"ChatBot:\" + Style.RESET_ALL , np.random.choice(i['responses']))\n",
        "\n",
        "        # print(Fore.GREEN + \"ChatBot:\" + Style.RESET_ALL,random.choice(responses))\n",
        "\n",
        "print(Fore.YELLOW + \"Start messaging with the bot (type quit to stop)!\" + Style.RESET_ALL)\n",
        "chat()"
      ],
      "metadata": {
        "id": "Bj2c-PipeQrQ"
      },
      "execution_count": null,
      "outputs": []
    },
    {
      "cell_type": "code",
      "source": [],
      "metadata": {
        "id": "ZSxZj8gtfRW-"
      },
      "execution_count": null,
      "outputs": []
    },
    {
      "cell_type": "markdown",
      "source": [
        "# **Chapter 2:Understanding natural language**"
      ],
      "metadata": {
        "id": "nIpHSpFn8kp2"
      }
    },
    {
      "cell_type": "markdown",
      "source": [
        "# 2.1 Understanding intents and entities"
      ],
      "metadata": {
        "id": "U0S93dlB_IeZ"
      }
    },
    {
      "cell_type": "markdown",
      "source": [
        "#### **Intent classification with regex I**"
      ],
      "metadata": {
        "id": "Xz17gv4H80Fm"
      }
    },
    {
      "cell_type": "markdown",
      "source": [
        "You'll begin by implementing a very simple technique to recognize intents - looking for the presence of keywords.\n",
        "\n",
        "A dictionary, keywords, has already been defined. It has the intents \"greet\", \"goodbye\", and \"thankyou\" as keys, and lists of keywords as the corresponding values. For example, keywords[\"greet\"] is set to \"[\"hello\",\"hi\",\"hey\"].\n",
        "\n",
        "Also defined is a second dictionary, responses, indicating how the bot should respond to each of these intents. It also has a default response with the key \"default\".\n",
        "\n",
        "The function send_message(), along with the bot and user templates, have also already been defined. Your job in this exercise is to create a dictionary with the intents as keys and regex objects as values."
      ],
      "metadata": {
        "id": "y0BQOMNy85MM"
      }
    },
    {
      "cell_type": "markdown",
      "source": [
        "**Instruction**"
      ],
      "metadata": {
        "id": "rbBn-YFa88Eu"
      }
    },
    {
      "cell_type": "markdown",
      "source": [
        "Iterate over the keywords dictionary, using intent and keys as your iterator variables.\n",
        "Use '|'.join(keys) to create regular expressions to match at least one of the keywords and pass it to re.compile() to compile the regular expressions into pattern objects. Store the result as the value of the patterns dictionary."
      ],
      "metadata": {
        "id": "5vM8H9gi9K8V"
      }
    },
    {
      "cell_type": "code",
      "source": [
        "import re\n",
        "\n",
        "keywords = {'greet': ['hi', 'hello', 'hey'], 'goodbye': ['bye', 'goodbye', 'see you']}\n",
        "patterns = {}\n",
        "\n",
        "for intent, keys in keywords.items():\n",
        "    patterns[intent] = re.compile('|'.join(keys))\n",
        "print(patterns)"
      ],
      "metadata": {
        "id": "RRbGe1OtfG-g",
        "colab": {
          "base_uri": "https://localhost:8080/"
        },
        "outputId": "f33c2261-4566-4a94-f924-6d96e7734910"
      },
      "execution_count": null,
      "outputs": [
        {
          "output_type": "stream",
          "name": "stdout",
          "text": [
            "{'greet': re.compile('hi|hello|hey'), 'goodbye': re.compile('bye|goodbye|see you')}\n"
          ]
        }
      ]
    },
    {
      "cell_type": "markdown",
      "source": [
        "#### **Intent classification with regex II**"
      ],
      "metadata": {
        "id": "kH7cFSWyGQnd"
      }
    },
    {
      "cell_type": "code",
      "source": [
        "def match_intent(message):\n",
        "    for intent, pattern in patterns.items():\n",
        "        if pattern.search(message):\n",
        "            return intent\n",
        "\n",
        "def respond(message):\n",
        "    intent = match_intent(message)\n",
        "    if intent == 'greet':\n",
        "        return 'Hello, how can I help you today?'\n",
        "    elif intent == 'goodbye':\n",
        "        return 'Goodbye, have a great day!'\n",
        "    else:\n",
        "        return 'I am sorry, I do not understand what you mean.'\n",
        "\n",
        "def send_message(message):\n",
        "    # Print user_template including the user_message\n",
        "    print(user_template.format(message))\n",
        "    # Get the bot's response to the message\n",
        "    response = respond(message)\n",
        "    # Print the bot template including the bot's response.\n",
        "    print(bot_template.format(response))"
      ],
      "metadata": {
        "id": "OYTwrAliAD7_"
      },
      "execution_count": null,
      "outputs": []
    },
    {
      "cell_type": "code",
      "source": [
        "send_message(\"hello!\")\n",
        "send_message(\"bye byeee\")\n",
        "send_message(\"thanks very much!\")"
      ],
      "metadata": {
        "id": "F14O4wzwAEBP",
        "colab": {
          "base_uri": "https://localhost:8080/"
        },
        "outputId": "652ca30f-5a7e-4c38-e496-90e16923f6b2"
      },
      "execution_count": null,
      "outputs": [
        {
          "output_type": "stream",
          "name": "stdout",
          "text": [
            "USER : hello!\n",
            "BOT : Hello, how can I help you today?\n",
            "USER : bye byeee\n",
            "BOT : Goodbye, have a great day!\n",
            "USER : thanks very much!\n",
            "BOT : I am sorry, I do not understand what you mean.\n"
          ]
        }
      ]
    },
    {
      "cell_type": "code",
      "source": [
        "def find_name(message):\n",
        "    name = None\n",
        "    # Create a pattern for checking if the keywords occur\n",
        "    name_keyword = re.compile('name|call')\n",
        "    # Create a pattern for finding capitalized words\n",
        "    name_pattern = re.compile('[A-Z]{1}[a-z]*')\n",
        "    if name_keyword.search(message):\n",
        "        # Get the matching words in the string\n",
        "        name_words = name_pattern.findall(message)\n",
        "        if len(name_words) > 0:\n",
        "            # Return the name if the keywords are present\n",
        "            name = ' '.join(name_words)\n",
        "    return name\n",
        "\n",
        "# Define respond()\n",
        "def respond(message):\n",
        "    # Find the name\n",
        "    name = find_name(message)\n",
        "    if name is None:\n",
        "        return \"Hi there!\"\n",
        "    else:\n",
        "        return \"Hello, {0}!\".format(name)\n",
        "\n",
        "# Send messages\n",
        "send_message(\"my name is David Copperfield\")\n",
        "send_message(\"call me Ishmael\")\n",
        "send_message(\"People call me Cassandra\")\n",
        "\n"
      ],
      "metadata": {
        "colab": {
          "base_uri": "https://localhost:8080/"
        },
        "id": "meDopDZqAEE0",
        "outputId": "2d317370-4bb9-48ed-d20e-867388d82705"
      },
      "execution_count": null,
      "outputs": [
        {
          "output_type": "stream",
          "name": "stdout",
          "text": [
            "USER : my name is David Copperfield\n",
            "BOT : Hello, David Copperfield!\n",
            "USER : call me Ishmael\n",
            "BOT : Hello, Ishmael!\n",
            "USER : People call me Cassandra\n",
            "BOT : Hello, People Cassandra!\n"
          ]
        }
      ]
    },
    {
      "cell_type": "markdown",
      "source": [
        "#### **Intent classification with regex III**"
      ],
      "metadata": {
        "id": "DR9dZq7XGUGd"
      }
    },
    {
      "cell_type": "markdown",
      "source": [
        "# 3.1 Word Vector"
      ],
      "metadata": {
        "id": "oyt6W8qsjOxs"
      }
    },
    {
      "cell_type": "markdown",
      "source": [
        "**Word Vector**"
      ],
      "metadata": {
        "id": "1edq6PPvi-kZ"
      }
    },
    {
      "cell_type": "markdown",
      "source": [
        "word vectors with spaCy\n",
        "In this exercise you'll get your first experience with word vectors! You're going to use the ATIS dataset, which contains thousands of sentences from real people interacting with a flight booking system.\n",
        "\n",
        "The user utterances are available in the list sentences, and the corresponding intents in labels.\n",
        "\n",
        "Your job is to create a 2D array X with as many rows as there are sentences in the dataset, where each row is a vector describing that sentence.\n",
        "\n",
        "**Instructions**\n",
        "\n",
        "Load the spaCy English model by calling spacy.load() with argument 'en'.\n",
        "Calculate the length of sentences using len() and the dimensionality of the word vectors using nlp.vocab.vectors_length.\n",
        "For each sentence, call the nlp object with the sentence as the sole argument. Store the result as doc.\n",
        "Use the .vector attribute of doc to get the vector representation of each sentence, and store this vector in the appropriate row of X."
      ],
      "metadata": {
        "id": "9Ue_L2QC9qkR"
      }
    },
    {
      "cell_type": "markdown",
      "source": [
        "#### **word vectors with spaCy**"
      ],
      "metadata": {
        "id": "g0yVRPd4GiX1"
      }
    },
    {
      "cell_type": "code",
      "source": [
        "import spacy\n",
        "import numpy as np\n",
        "# Load the English model\n",
        "nlp = spacy.load(\"en_core_web_lg\")\n",
        "# Sample sentences\n",
        "sentences = [\"This is sentence 1.\", \"This is sentence 2.\", \"This is sentence 3.\"]\n",
        "\n",
        "# Initialize the array to store sentence vectors\n",
        "num_sentences = len(sentences)\n",
        "vector_dim = nlp.vocab.vectors_length\n",
        "print(vector_dim)\n",
        "# Initialize the array with zeros: X\n",
        "X = np.zeros((num_sentences, vector_dim))\n",
        "\n",
        "\n",
        "for i, sentence in enumerate(sentences):\n",
        "    doc = nlp(sentence)\n",
        "    # Process each sentence and store its vector representation in X\n",
        "    X[i, :] = doc.vector\n",
        "    print(X)\n"
      ],
      "metadata": {
        "id": "EYBpftDri2WD",
        "colab": {
          "base_uri": "https://localhost:8080/"
        },
        "outputId": "94f075e5-2633-4e30-aac9-8f97d4cb129c"
      },
      "execution_count": null,
      "outputs": [
        {
          "output_type": "stream",
          "name": "stdout",
          "text": [
            "300\n",
            "[[ 5.71169257e-01 -2.26346397e+00  3.36093992e-01 -6.72507942e-01\n",
            "   6.93842030e+00  1.76820271e-02  1.38140178e+00  3.83411944e-01\n",
            "  -3.33022028e-01 -2.65542626e+00  6.21230030e+00 -1.29752159e+00\n",
            "  -1.37066007e+00  9.40298080e-01 -4.08000965e-03  1.33536184e+00\n",
            "   1.70110774e+00  2.66281962e+00  6.31208062e-01 -3.05984110e-01\n",
            "  -5.97200036e-01  1.05471587e+00 -1.44634604e+00  2.77288556e+00\n",
            "  -6.00813389e+00 -2.03479961e-01  1.13902092e-01  3.28399956e-01\n",
            "  -2.83644009e+00  3.56477594e+00  7.72122025e-01  1.85099989e-01\n",
            "  -3.33154225e+00 -6.85390055e-01 -3.26051641e+00 -8.59819889e-01\n",
            "   7.11314678e-01  2.52313185e+00  3.85451627e+00  2.14485002e+00\n",
            "  -5.92160106e-01  1.13290000e+00 -1.46996605e+00  4.92879957e-01\n",
            "  -4.01476002e+00  4.51278019e+00  4.66880035e+00 -2.88979679e-01\n",
            "   7.17088044e-01 -2.34402990e+00 -4.09638017e-01 -6.32019997e-01\n",
            "   6.44338012e-01 -9.33860123e-01  9.18576062e-01  1.03947997e+00\n",
            "  -2.03850603e+00  1.41975999e+00  2.12941676e-01 -3.26830149e-01\n",
            "   6.48178101e-01  1.23104000e+00 -1.72522008e+00 -6.55700028e-01\n",
            "   2.04798412e+00  6.74528003e-01 -1.64359987e+00 -4.43917561e+00\n",
            "   1.96465302e+00  3.19265795e+00 -1.45678997e+00  2.01002216e+00\n",
            "  -3.75452185e+00  5.00883937e-01 -1.48301399e+00  1.25734794e+00\n",
            "  -1.76142001e+00  9.03427958e-01 -3.33306813e+00  5.30391979e+00\n",
            "  -1.84188008e+00 -2.28564000e+00 -3.77747989e+00 -1.11213231e+00\n",
            "   2.46797991e+00 -6.51366115e-01 -1.34198868e+00  7.36721933e-01\n",
            "   4.56748390e+00  3.32932055e-01  2.85166085e-01 -7.43731856e-01\n",
            "   2.62054253e+00 -3.15190005e+00 -9.82137978e-01 -1.53307998e+00\n",
            "  -2.46005988e+00 -8.29199329e-02 -2.27084017e+00 -2.85779595e+00\n",
            "   3.47873616e+00 -1.53764272e+00  6.31760025e+00  4.78491402e+00\n",
            "   2.34301996e+00  3.54484034e+00  5.37243962e-01  1.25504151e-01\n",
            "  -2.36018801e+00  9.96919990e-01  3.27596674e-03  2.89955854e-01\n",
            "   5.43634057e-01  2.55063200e+00 -1.07878196e+00 -4.25057888e-01\n",
            "  -3.81454015e+00  7.72260070e-01 -4.03259903e-01 -1.36141992e+00\n",
            "  -2.26824090e-01 -3.65910029e+00 -1.01975203e+00  1.04392803e+00\n",
            "  -1.76128006e+00 -5.49158001e+00  7.82319903e-01 -1.51374006e+00\n",
            "   1.38049960e-01 -1.11996388e+00 -5.01241970e+00 -7.62077987e-01\n",
            "   4.01946592e+00 -3.02277040e+00  1.54904258e+00 -1.97588801e+00\n",
            "   1.39359212e+00  9.30359960e-01  2.68709993e+00 -4.00704002e+00\n",
            "   1.68318391e+00  1.02781594e+00  2.95326018e+00  7.30188012e-01\n",
            "   1.27899975e-01  2.18522143e+00 -4.04849815e+00 -3.28414202e+00\n",
            "   1.57419920e-01  4.07833004e+00  3.97615969e-01  1.38144994e+00\n",
            "  -4.55344021e-01 -7.73159862e-01  1.95024681e+00 -1.96181983e-01\n",
            "   3.03404188e+00  2.17488408e+00 -1.01044011e+00 -4.44303846e+00\n",
            "   8.69697928e-01  2.13890314e+00  3.44752622e+00  1.11432004e+00\n",
            "  -2.00523996e+00 -2.08684015e+00 -1.94319797e+00  2.18500733e+00\n",
            "   3.42008018e+00  3.40194011e+00 -1.98450983e+00  1.05975592e+00\n",
            "   9.27559972e-01 -1.80379999e+00 -1.98104000e+00  1.24993789e+00\n",
            "  -7.13299960e-02  1.59534013e+00 -3.45482016e+00 -1.68850005e+00\n",
            "  -2.76816040e-01  2.44108367e+00 -2.03795767e+00 -1.77308011e+00\n",
            "  -2.43070388e+00 -8.68962109e-01 -2.00382590e+00  1.77201465e-01\n",
            "  -1.59366012e+00  3.96750021e+00 -2.16887212e+00 -3.24193954e-01\n",
            "  -1.65872067e-01 -2.16610003e+00  3.93709993e+00  2.23143601e+00\n",
            "  -3.55850041e-01 -1.38699985e+00  1.84688222e+00 -2.90188003e+00\n",
            "  -7.99301982e-01 -1.70362604e+00 -1.10171211e+00 -2.85520220e+00\n",
            "   3.53246379e+00  2.04542011e-01 -5.01608038e+00  1.91149998e+00\n",
            "  -9.14835930e-01 -1.39153993e+00  1.14110792e+00  1.85013986e+00\n",
            "  -8.34342003e-01  1.97948003e+00  5.35450041e-01 -8.15922141e-01\n",
            "   1.54098010e+00 -3.16177988e+00 -3.32219929e-01  1.28007793e+00\n",
            "  -1.25922000e+00 -3.91707927e-01 -9.65001136e-02 -4.42217970e+00\n",
            "  -2.15544176e+00 -1.57310009e+00  8.77066016e-01  6.77780032e-01\n",
            "  -4.40759957e-01 -1.06267989e+00  6.31467998e-01 -7.98532009e+00\n",
            "   2.29252195e+00  1.62470400e+00 -3.43741989e+00  3.59639972e-01\n",
            "   1.08780101e-01 -5.68322361e-01 -6.93004012e-01  5.23360014e-01\n",
            "  -9.64540005e-01 -1.19067001e+00 -1.33695984e+00  1.47036004e+00\n",
            "  -8.54848087e-01 -3.01635408e+00 -2.63620710e+00  4.46841764e+00\n",
            "   8.00216079e-01  3.51607966e+00  3.79766798e+00 -2.89385974e-01\n",
            "  -2.14347982e+00 -2.31971598e+00 -4.02694613e-01  7.33990688e-03\n",
            "   3.06500006e+00  9.43019867e-01  3.77141380e+00 -2.66080809e+00\n",
            "  -1.91022015e+00  4.58619976e+00  2.86541057e+00  6.94675970e+00\n",
            "  -9.09321964e-01 -8.23123932e-01  8.01219940e-01  1.09925199e+00\n",
            "  -3.31001997e+00 -8.50157559e-01  1.70261991e+00 -1.14329195e+00\n",
            "  -2.76071966e-01 -1.53618002e+00  1.13690984e+00  1.22644007e+00\n",
            "   8.72431934e-01  2.94283819e+00  2.89997625e+00  2.04064202e+00\n",
            "   1.75108600e+00 -2.16715980e+00 -3.81748819e+00  2.96768117e+00\n",
            "   5.66251183e+00 -1.05580008e+00  3.46440005e+00 -3.00169206e+00\n",
            "  -4.88770008e-01  7.85170078e-01  3.31958008e+00  1.65428007e+00\n",
            "   2.86325979e+00 -1.23720028e-01  1.79982603e+00  2.78602219e+00\n",
            "   2.18005991e+00 -1.73608589e+00 -2.26451918e-01  2.66781616e+00]\n",
            " [ 0.00000000e+00  0.00000000e+00  0.00000000e+00  0.00000000e+00\n",
            "   0.00000000e+00  0.00000000e+00  0.00000000e+00  0.00000000e+00\n",
            "   0.00000000e+00  0.00000000e+00  0.00000000e+00  0.00000000e+00\n",
            "   0.00000000e+00  0.00000000e+00  0.00000000e+00  0.00000000e+00\n",
            "   0.00000000e+00  0.00000000e+00  0.00000000e+00  0.00000000e+00\n",
            "   0.00000000e+00  0.00000000e+00  0.00000000e+00  0.00000000e+00\n",
            "   0.00000000e+00  0.00000000e+00  0.00000000e+00  0.00000000e+00\n",
            "   0.00000000e+00  0.00000000e+00  0.00000000e+00  0.00000000e+00\n",
            "   0.00000000e+00  0.00000000e+00  0.00000000e+00  0.00000000e+00\n",
            "   0.00000000e+00  0.00000000e+00  0.00000000e+00  0.00000000e+00\n",
            "   0.00000000e+00  0.00000000e+00  0.00000000e+00  0.00000000e+00\n",
            "   0.00000000e+00  0.00000000e+00  0.00000000e+00  0.00000000e+00\n",
            "   0.00000000e+00  0.00000000e+00  0.00000000e+00  0.00000000e+00\n",
            "   0.00000000e+00  0.00000000e+00  0.00000000e+00  0.00000000e+00\n",
            "   0.00000000e+00  0.00000000e+00  0.00000000e+00  0.00000000e+00\n",
            "   0.00000000e+00  0.00000000e+00  0.00000000e+00  0.00000000e+00\n",
            "   0.00000000e+00  0.00000000e+00  0.00000000e+00  0.00000000e+00\n",
            "   0.00000000e+00  0.00000000e+00  0.00000000e+00  0.00000000e+00\n",
            "   0.00000000e+00  0.00000000e+00  0.00000000e+00  0.00000000e+00\n",
            "   0.00000000e+00  0.00000000e+00  0.00000000e+00  0.00000000e+00\n",
            "   0.00000000e+00  0.00000000e+00  0.00000000e+00  0.00000000e+00\n",
            "   0.00000000e+00  0.00000000e+00  0.00000000e+00  0.00000000e+00\n",
            "   0.00000000e+00  0.00000000e+00  0.00000000e+00  0.00000000e+00\n",
            "   0.00000000e+00  0.00000000e+00  0.00000000e+00  0.00000000e+00\n",
            "   0.00000000e+00  0.00000000e+00  0.00000000e+00  0.00000000e+00\n",
            "   0.00000000e+00  0.00000000e+00  0.00000000e+00  0.00000000e+00\n",
            "   0.00000000e+00  0.00000000e+00  0.00000000e+00  0.00000000e+00\n",
            "   0.00000000e+00  0.00000000e+00  0.00000000e+00  0.00000000e+00\n",
            "   0.00000000e+00  0.00000000e+00  0.00000000e+00  0.00000000e+00\n",
            "   0.00000000e+00  0.00000000e+00  0.00000000e+00  0.00000000e+00\n",
            "   0.00000000e+00  0.00000000e+00  0.00000000e+00  0.00000000e+00\n",
            "   0.00000000e+00  0.00000000e+00  0.00000000e+00  0.00000000e+00\n",
            "   0.00000000e+00  0.00000000e+00  0.00000000e+00  0.00000000e+00\n",
            "   0.00000000e+00  0.00000000e+00  0.00000000e+00  0.00000000e+00\n",
            "   0.00000000e+00  0.00000000e+00  0.00000000e+00  0.00000000e+00\n",
            "   0.00000000e+00  0.00000000e+00  0.00000000e+00  0.00000000e+00\n",
            "   0.00000000e+00  0.00000000e+00  0.00000000e+00  0.00000000e+00\n",
            "   0.00000000e+00  0.00000000e+00  0.00000000e+00  0.00000000e+00\n",
            "   0.00000000e+00  0.00000000e+00  0.00000000e+00  0.00000000e+00\n",
            "   0.00000000e+00  0.00000000e+00  0.00000000e+00  0.00000000e+00\n",
            "   0.00000000e+00  0.00000000e+00  0.00000000e+00  0.00000000e+00\n",
            "   0.00000000e+00  0.00000000e+00  0.00000000e+00  0.00000000e+00\n",
            "   0.00000000e+00  0.00000000e+00  0.00000000e+00  0.00000000e+00\n",
            "   0.00000000e+00  0.00000000e+00  0.00000000e+00  0.00000000e+00\n",
            "   0.00000000e+00  0.00000000e+00  0.00000000e+00  0.00000000e+00\n",
            "   0.00000000e+00  0.00000000e+00  0.00000000e+00  0.00000000e+00\n",
            "   0.00000000e+00  0.00000000e+00  0.00000000e+00  0.00000000e+00\n",
            "   0.00000000e+00  0.00000000e+00  0.00000000e+00  0.00000000e+00\n",
            "   0.00000000e+00  0.00000000e+00  0.00000000e+00  0.00000000e+00\n",
            "   0.00000000e+00  0.00000000e+00  0.00000000e+00  0.00000000e+00\n",
            "   0.00000000e+00  0.00000000e+00  0.00000000e+00  0.00000000e+00\n",
            "   0.00000000e+00  0.00000000e+00  0.00000000e+00  0.00000000e+00\n",
            "   0.00000000e+00  0.00000000e+00  0.00000000e+00  0.00000000e+00\n",
            "   0.00000000e+00  0.00000000e+00  0.00000000e+00  0.00000000e+00\n",
            "   0.00000000e+00  0.00000000e+00  0.00000000e+00  0.00000000e+00\n",
            "   0.00000000e+00  0.00000000e+00  0.00000000e+00  0.00000000e+00\n",
            "   0.00000000e+00  0.00000000e+00  0.00000000e+00  0.00000000e+00\n",
            "   0.00000000e+00  0.00000000e+00  0.00000000e+00  0.00000000e+00\n",
            "   0.00000000e+00  0.00000000e+00  0.00000000e+00  0.00000000e+00\n",
            "   0.00000000e+00  0.00000000e+00  0.00000000e+00  0.00000000e+00\n",
            "   0.00000000e+00  0.00000000e+00  0.00000000e+00  0.00000000e+00\n",
            "   0.00000000e+00  0.00000000e+00  0.00000000e+00  0.00000000e+00\n",
            "   0.00000000e+00  0.00000000e+00  0.00000000e+00  0.00000000e+00\n",
            "   0.00000000e+00  0.00000000e+00  0.00000000e+00  0.00000000e+00\n",
            "   0.00000000e+00  0.00000000e+00  0.00000000e+00  0.00000000e+00\n",
            "   0.00000000e+00  0.00000000e+00  0.00000000e+00  0.00000000e+00\n",
            "   0.00000000e+00  0.00000000e+00  0.00000000e+00  0.00000000e+00\n",
            "   0.00000000e+00  0.00000000e+00  0.00000000e+00  0.00000000e+00\n",
            "   0.00000000e+00  0.00000000e+00  0.00000000e+00  0.00000000e+00\n",
            "   0.00000000e+00  0.00000000e+00  0.00000000e+00  0.00000000e+00\n",
            "   0.00000000e+00  0.00000000e+00  0.00000000e+00  0.00000000e+00\n",
            "   0.00000000e+00  0.00000000e+00  0.00000000e+00  0.00000000e+00\n",
            "   0.00000000e+00  0.00000000e+00  0.00000000e+00  0.00000000e+00\n",
            "   0.00000000e+00  0.00000000e+00  0.00000000e+00  0.00000000e+00\n",
            "   0.00000000e+00  0.00000000e+00  0.00000000e+00  0.00000000e+00]\n",
            " [ 0.00000000e+00  0.00000000e+00  0.00000000e+00  0.00000000e+00\n",
            "   0.00000000e+00  0.00000000e+00  0.00000000e+00  0.00000000e+00\n",
            "   0.00000000e+00  0.00000000e+00  0.00000000e+00  0.00000000e+00\n",
            "   0.00000000e+00  0.00000000e+00  0.00000000e+00  0.00000000e+00\n",
            "   0.00000000e+00  0.00000000e+00  0.00000000e+00  0.00000000e+00\n",
            "   0.00000000e+00  0.00000000e+00  0.00000000e+00  0.00000000e+00\n",
            "   0.00000000e+00  0.00000000e+00  0.00000000e+00  0.00000000e+00\n",
            "   0.00000000e+00  0.00000000e+00  0.00000000e+00  0.00000000e+00\n",
            "   0.00000000e+00  0.00000000e+00  0.00000000e+00  0.00000000e+00\n",
            "   0.00000000e+00  0.00000000e+00  0.00000000e+00  0.00000000e+00\n",
            "   0.00000000e+00  0.00000000e+00  0.00000000e+00  0.00000000e+00\n",
            "   0.00000000e+00  0.00000000e+00  0.00000000e+00  0.00000000e+00\n",
            "   0.00000000e+00  0.00000000e+00  0.00000000e+00  0.00000000e+00\n",
            "   0.00000000e+00  0.00000000e+00  0.00000000e+00  0.00000000e+00\n",
            "   0.00000000e+00  0.00000000e+00  0.00000000e+00  0.00000000e+00\n",
            "   0.00000000e+00  0.00000000e+00  0.00000000e+00  0.00000000e+00\n",
            "   0.00000000e+00  0.00000000e+00  0.00000000e+00  0.00000000e+00\n",
            "   0.00000000e+00  0.00000000e+00  0.00000000e+00  0.00000000e+00\n",
            "   0.00000000e+00  0.00000000e+00  0.00000000e+00  0.00000000e+00\n",
            "   0.00000000e+00  0.00000000e+00  0.00000000e+00  0.00000000e+00\n",
            "   0.00000000e+00  0.00000000e+00  0.00000000e+00  0.00000000e+00\n",
            "   0.00000000e+00  0.00000000e+00  0.00000000e+00  0.00000000e+00\n",
            "   0.00000000e+00  0.00000000e+00  0.00000000e+00  0.00000000e+00\n",
            "   0.00000000e+00  0.00000000e+00  0.00000000e+00  0.00000000e+00\n",
            "   0.00000000e+00  0.00000000e+00  0.00000000e+00  0.00000000e+00\n",
            "   0.00000000e+00  0.00000000e+00  0.00000000e+00  0.00000000e+00\n",
            "   0.00000000e+00  0.00000000e+00  0.00000000e+00  0.00000000e+00\n",
            "   0.00000000e+00  0.00000000e+00  0.00000000e+00  0.00000000e+00\n",
            "   0.00000000e+00  0.00000000e+00  0.00000000e+00  0.00000000e+00\n",
            "   0.00000000e+00  0.00000000e+00  0.00000000e+00  0.00000000e+00\n",
            "   0.00000000e+00  0.00000000e+00  0.00000000e+00  0.00000000e+00\n",
            "   0.00000000e+00  0.00000000e+00  0.00000000e+00  0.00000000e+00\n",
            "   0.00000000e+00  0.00000000e+00  0.00000000e+00  0.00000000e+00\n",
            "   0.00000000e+00  0.00000000e+00  0.00000000e+00  0.00000000e+00\n",
            "   0.00000000e+00  0.00000000e+00  0.00000000e+00  0.00000000e+00\n",
            "   0.00000000e+00  0.00000000e+00  0.00000000e+00  0.00000000e+00\n",
            "   0.00000000e+00  0.00000000e+00  0.00000000e+00  0.00000000e+00\n",
            "   0.00000000e+00  0.00000000e+00  0.00000000e+00  0.00000000e+00\n",
            "   0.00000000e+00  0.00000000e+00  0.00000000e+00  0.00000000e+00\n",
            "   0.00000000e+00  0.00000000e+00  0.00000000e+00  0.00000000e+00\n",
            "   0.00000000e+00  0.00000000e+00  0.00000000e+00  0.00000000e+00\n",
            "   0.00000000e+00  0.00000000e+00  0.00000000e+00  0.00000000e+00\n",
            "   0.00000000e+00  0.00000000e+00  0.00000000e+00  0.00000000e+00\n",
            "   0.00000000e+00  0.00000000e+00  0.00000000e+00  0.00000000e+00\n",
            "   0.00000000e+00  0.00000000e+00  0.00000000e+00  0.00000000e+00\n",
            "   0.00000000e+00  0.00000000e+00  0.00000000e+00  0.00000000e+00\n",
            "   0.00000000e+00  0.00000000e+00  0.00000000e+00  0.00000000e+00\n",
            "   0.00000000e+00  0.00000000e+00  0.00000000e+00  0.00000000e+00\n",
            "   0.00000000e+00  0.00000000e+00  0.00000000e+00  0.00000000e+00\n",
            "   0.00000000e+00  0.00000000e+00  0.00000000e+00  0.00000000e+00\n",
            "   0.00000000e+00  0.00000000e+00  0.00000000e+00  0.00000000e+00\n",
            "   0.00000000e+00  0.00000000e+00  0.00000000e+00  0.00000000e+00\n",
            "   0.00000000e+00  0.00000000e+00  0.00000000e+00  0.00000000e+00\n",
            "   0.00000000e+00  0.00000000e+00  0.00000000e+00  0.00000000e+00\n",
            "   0.00000000e+00  0.00000000e+00  0.00000000e+00  0.00000000e+00\n",
            "   0.00000000e+00  0.00000000e+00  0.00000000e+00  0.00000000e+00\n",
            "   0.00000000e+00  0.00000000e+00  0.00000000e+00  0.00000000e+00\n",
            "   0.00000000e+00  0.00000000e+00  0.00000000e+00  0.00000000e+00\n",
            "   0.00000000e+00  0.00000000e+00  0.00000000e+00  0.00000000e+00\n",
            "   0.00000000e+00  0.00000000e+00  0.00000000e+00  0.00000000e+00\n",
            "   0.00000000e+00  0.00000000e+00  0.00000000e+00  0.00000000e+00\n",
            "   0.00000000e+00  0.00000000e+00  0.00000000e+00  0.00000000e+00\n",
            "   0.00000000e+00  0.00000000e+00  0.00000000e+00  0.00000000e+00\n",
            "   0.00000000e+00  0.00000000e+00  0.00000000e+00  0.00000000e+00\n",
            "   0.00000000e+00  0.00000000e+00  0.00000000e+00  0.00000000e+00\n",
            "   0.00000000e+00  0.00000000e+00  0.00000000e+00  0.00000000e+00\n",
            "   0.00000000e+00  0.00000000e+00  0.00000000e+00  0.00000000e+00\n",
            "   0.00000000e+00  0.00000000e+00  0.00000000e+00  0.00000000e+00\n",
            "   0.00000000e+00  0.00000000e+00  0.00000000e+00  0.00000000e+00\n",
            "   0.00000000e+00  0.00000000e+00  0.00000000e+00  0.00000000e+00\n",
            "   0.00000000e+00  0.00000000e+00  0.00000000e+00  0.00000000e+00\n",
            "   0.00000000e+00  0.00000000e+00  0.00000000e+00  0.00000000e+00\n",
            "   0.00000000e+00  0.00000000e+00  0.00000000e+00  0.00000000e+00\n",
            "   0.00000000e+00  0.00000000e+00  0.00000000e+00  0.00000000e+00\n",
            "   0.00000000e+00  0.00000000e+00  0.00000000e+00  0.00000000e+00]]\n",
            "[[ 5.71169257e-01 -2.26346397e+00  3.36093992e-01 -6.72507942e-01\n",
            "   6.93842030e+00  1.76820271e-02  1.38140178e+00  3.83411944e-01\n",
            "  -3.33022028e-01 -2.65542626e+00  6.21230030e+00 -1.29752159e+00\n",
            "  -1.37066007e+00  9.40298080e-01 -4.08000965e-03  1.33536184e+00\n",
            "   1.70110774e+00  2.66281962e+00  6.31208062e-01 -3.05984110e-01\n",
            "  -5.97200036e-01  1.05471587e+00 -1.44634604e+00  2.77288556e+00\n",
            "  -6.00813389e+00 -2.03479961e-01  1.13902092e-01  3.28399956e-01\n",
            "  -2.83644009e+00  3.56477594e+00  7.72122025e-01  1.85099989e-01\n",
            "  -3.33154225e+00 -6.85390055e-01 -3.26051641e+00 -8.59819889e-01\n",
            "   7.11314678e-01  2.52313185e+00  3.85451627e+00  2.14485002e+00\n",
            "  -5.92160106e-01  1.13290000e+00 -1.46996605e+00  4.92879957e-01\n",
            "  -4.01476002e+00  4.51278019e+00  4.66880035e+00 -2.88979679e-01\n",
            "   7.17088044e-01 -2.34402990e+00 -4.09638017e-01 -6.32019997e-01\n",
            "   6.44338012e-01 -9.33860123e-01  9.18576062e-01  1.03947997e+00\n",
            "  -2.03850603e+00  1.41975999e+00  2.12941676e-01 -3.26830149e-01\n",
            "   6.48178101e-01  1.23104000e+00 -1.72522008e+00 -6.55700028e-01\n",
            "   2.04798412e+00  6.74528003e-01 -1.64359987e+00 -4.43917561e+00\n",
            "   1.96465302e+00  3.19265795e+00 -1.45678997e+00  2.01002216e+00\n",
            "  -3.75452185e+00  5.00883937e-01 -1.48301399e+00  1.25734794e+00\n",
            "  -1.76142001e+00  9.03427958e-01 -3.33306813e+00  5.30391979e+00\n",
            "  -1.84188008e+00 -2.28564000e+00 -3.77747989e+00 -1.11213231e+00\n",
            "   2.46797991e+00 -6.51366115e-01 -1.34198868e+00  7.36721933e-01\n",
            "   4.56748390e+00  3.32932055e-01  2.85166085e-01 -7.43731856e-01\n",
            "   2.62054253e+00 -3.15190005e+00 -9.82137978e-01 -1.53307998e+00\n",
            "  -2.46005988e+00 -8.29199329e-02 -2.27084017e+00 -2.85779595e+00\n",
            "   3.47873616e+00 -1.53764272e+00  6.31760025e+00  4.78491402e+00\n",
            "   2.34301996e+00  3.54484034e+00  5.37243962e-01  1.25504151e-01\n",
            "  -2.36018801e+00  9.96919990e-01  3.27596674e-03  2.89955854e-01\n",
            "   5.43634057e-01  2.55063200e+00 -1.07878196e+00 -4.25057888e-01\n",
            "  -3.81454015e+00  7.72260070e-01 -4.03259903e-01 -1.36141992e+00\n",
            "  -2.26824090e-01 -3.65910029e+00 -1.01975203e+00  1.04392803e+00\n",
            "  -1.76128006e+00 -5.49158001e+00  7.82319903e-01 -1.51374006e+00\n",
            "   1.38049960e-01 -1.11996388e+00 -5.01241970e+00 -7.62077987e-01\n",
            "   4.01946592e+00 -3.02277040e+00  1.54904258e+00 -1.97588801e+00\n",
            "   1.39359212e+00  9.30359960e-01  2.68709993e+00 -4.00704002e+00\n",
            "   1.68318391e+00  1.02781594e+00  2.95326018e+00  7.30188012e-01\n",
            "   1.27899975e-01  2.18522143e+00 -4.04849815e+00 -3.28414202e+00\n",
            "   1.57419920e-01  4.07833004e+00  3.97615969e-01  1.38144994e+00\n",
            "  -4.55344021e-01 -7.73159862e-01  1.95024681e+00 -1.96181983e-01\n",
            "   3.03404188e+00  2.17488408e+00 -1.01044011e+00 -4.44303846e+00\n",
            "   8.69697928e-01  2.13890314e+00  3.44752622e+00  1.11432004e+00\n",
            "  -2.00523996e+00 -2.08684015e+00 -1.94319797e+00  2.18500733e+00\n",
            "   3.42008018e+00  3.40194011e+00 -1.98450983e+00  1.05975592e+00\n",
            "   9.27559972e-01 -1.80379999e+00 -1.98104000e+00  1.24993789e+00\n",
            "  -7.13299960e-02  1.59534013e+00 -3.45482016e+00 -1.68850005e+00\n",
            "  -2.76816040e-01  2.44108367e+00 -2.03795767e+00 -1.77308011e+00\n",
            "  -2.43070388e+00 -8.68962109e-01 -2.00382590e+00  1.77201465e-01\n",
            "  -1.59366012e+00  3.96750021e+00 -2.16887212e+00 -3.24193954e-01\n",
            "  -1.65872067e-01 -2.16610003e+00  3.93709993e+00  2.23143601e+00\n",
            "  -3.55850041e-01 -1.38699985e+00  1.84688222e+00 -2.90188003e+00\n",
            "  -7.99301982e-01 -1.70362604e+00 -1.10171211e+00 -2.85520220e+00\n",
            "   3.53246379e+00  2.04542011e-01 -5.01608038e+00  1.91149998e+00\n",
            "  -9.14835930e-01 -1.39153993e+00  1.14110792e+00  1.85013986e+00\n",
            "  -8.34342003e-01  1.97948003e+00  5.35450041e-01 -8.15922141e-01\n",
            "   1.54098010e+00 -3.16177988e+00 -3.32219929e-01  1.28007793e+00\n",
            "  -1.25922000e+00 -3.91707927e-01 -9.65001136e-02 -4.42217970e+00\n",
            "  -2.15544176e+00 -1.57310009e+00  8.77066016e-01  6.77780032e-01\n",
            "  -4.40759957e-01 -1.06267989e+00  6.31467998e-01 -7.98532009e+00\n",
            "   2.29252195e+00  1.62470400e+00 -3.43741989e+00  3.59639972e-01\n",
            "   1.08780101e-01 -5.68322361e-01 -6.93004012e-01  5.23360014e-01\n",
            "  -9.64540005e-01 -1.19067001e+00 -1.33695984e+00  1.47036004e+00\n",
            "  -8.54848087e-01 -3.01635408e+00 -2.63620710e+00  4.46841764e+00\n",
            "   8.00216079e-01  3.51607966e+00  3.79766798e+00 -2.89385974e-01\n",
            "  -2.14347982e+00 -2.31971598e+00 -4.02694613e-01  7.33990688e-03\n",
            "   3.06500006e+00  9.43019867e-01  3.77141380e+00 -2.66080809e+00\n",
            "  -1.91022015e+00  4.58619976e+00  2.86541057e+00  6.94675970e+00\n",
            "  -9.09321964e-01 -8.23123932e-01  8.01219940e-01  1.09925199e+00\n",
            "  -3.31001997e+00 -8.50157559e-01  1.70261991e+00 -1.14329195e+00\n",
            "  -2.76071966e-01 -1.53618002e+00  1.13690984e+00  1.22644007e+00\n",
            "   8.72431934e-01  2.94283819e+00  2.89997625e+00  2.04064202e+00\n",
            "   1.75108600e+00 -2.16715980e+00 -3.81748819e+00  2.96768117e+00\n",
            "   5.66251183e+00 -1.05580008e+00  3.46440005e+00 -3.00169206e+00\n",
            "  -4.88770008e-01  7.85170078e-01  3.31958008e+00  1.65428007e+00\n",
            "   2.86325979e+00 -1.23720028e-01  1.79982603e+00  2.78602219e+00\n",
            "   2.18005991e+00 -1.73608589e+00 -2.26451918e-01  2.66781616e+00]\n",
            " [-2.73210794e-01 -2.54866385e+00  1.90674022e-01  2.28232101e-01\n",
            "   6.20465994e+00  5.01361966e-01  7.86133885e-01  1.13918400e+00\n",
            "  -4.96421993e-01 -2.93612623e+00  7.04007959e+00 -9.54860032e-01\n",
            "  -1.33842015e+00  4.80318010e-01  1.16963995e+00  8.13381970e-01\n",
            "   1.54460788e+00  1.94874191e+00  1.37220100e-01  1.06559750e-02\n",
            "  -6.14639938e-01  5.88697970e-01 -1.04328609e+00  1.40344548e+00\n",
            "  -5.89973354e+00  2.28179976e-01 -1.17191803e+00 -8.74320149e-01\n",
            "  -3.09349990e+00  3.11485600e+00  1.65240192e+00  8.84949863e-01\n",
            "  -2.93720984e+00 -1.57608008e+00 -3.15391612e+00 -4.16019917e-01\n",
            "   4.84794617e-01  3.21849203e+00  3.90117598e+00  2.09068394e+00\n",
            "   2.16659978e-01  5.25885999e-01 -1.64130616e+00  6.74999207e-02\n",
            "  -3.32326007e+00  4.25084019e+00  4.77678013e+00 -1.10017991e+00\n",
            "  -1.86012000e-01 -1.79207003e+00  4.27241981e-01 -1.59548000e-01\n",
            "   2.45477945e-01 -1.49290013e+00  5.14096141e-01  2.52480000e-01\n",
            "  -2.44790602e+00  1.67253995e+00  5.67043662e-01  3.42499726e-02\n",
            "   9.54180732e-02  1.32791996e+00 -1.37717998e+00 -1.64199996e+00\n",
            "   2.06624413e+00  1.09744799e+00 -1.85703599e+00 -4.37594414e+00\n",
            "   2.42937303e+00  1.89613795e+00 -1.24947000e+00  2.33226228e+00\n",
            "  -3.81540227e+00  1.20120406e+00 -2.01368785e+00  1.40492797e+00\n",
            "  -1.55606008e+00  7.29214013e-01 -3.18958783e+00  4.48611975e+00\n",
            "  -2.47435999e+00 -2.00604582e+00 -3.72887993e+00 -1.23871636e+00\n",
            "   2.71578407e+00 -5.65986097e-01 -4.66228634e-01  2.63821930e-01\n",
            "   3.01336408e+00  1.01483202e+00 -2.54494011e-01 -1.22891806e-01\n",
            "   1.73342252e+00 -3.71016002e+00 -1.90463793e+00 -1.18068004e+00\n",
            "  -1.84414005e+00 -2.79199127e-02 -1.83866000e+00 -1.87753797e+00\n",
            "   3.21605611e+00 -1.80374265e+00  5.18461990e+00  5.60737991e+00\n",
            "   3.07384014e+00  2.81845999e+00 -3.05196047e-01  2.67504126e-01\n",
            "  -1.43396807e+00  2.10417986e+00 -2.06944078e-01  8.92095864e-01\n",
            "   9.51033950e-01  2.64503193e+00 -1.04000199e+00 -1.43171799e+00\n",
            "  -3.63003993e+00  6.03839993e-01  3.29720080e-01 -1.67131996e+00\n",
            "  -1.41286409e+00 -3.15533996e+00 -3.94011945e-01  1.27276814e+00\n",
            "  -1.71255994e+00 -5.74060011e+00  8.97219956e-01 -1.83521998e+00\n",
            "   1.27469987e-01 -3.11555982e-01 -5.10621929e+00 -1.12757397e+00\n",
            "   2.62334585e+00 -3.37137032e+00  1.20828259e+00 -1.58206809e+00\n",
            "   1.42217231e+00  3.44460011e-01  3.19233990e+00 -3.52616000e+00\n",
            "   2.72038412e+00  4.96215910e-01  1.79689860e+00 -6.53912008e-01\n",
            "  -6.74140036e-01  9.19861615e-01 -4.47368002e+00 -4.35186243e+00\n",
            "   8.64899814e-01  3.76627016e+00  2.89920002e-01  9.73670006e-01\n",
            "  -7.98143983e-01 -7.38959968e-01  2.51027018e-01 -1.05748200e+00\n",
            "   1.83226204e+00  2.68696594e+00 -3.94400120e-01 -3.23975825e+00\n",
            "   4.02220115e-02  1.46370292e+00  2.78632593e+00  2.35753989e+00\n",
            "  -1.57103992e+00 -1.84166014e+00 -7.23698020e-01  1.01600730e+00\n",
            "   3.50804019e+00  3.44494009e+00 -1.04990995e+00  1.43763602e+00\n",
            "   1.29499996e+00 -2.26802015e+00 -1.32871997e+00  4.49937969e-01\n",
            "   4.60110009e-01  1.61850011e+00 -3.10843992e+00 -1.10006201e+00\n",
            "  -9.90960151e-02  2.89992380e+00 -1.93395805e+00 -6.73735142e-01\n",
            "  -2.81952405e+00  3.85857970e-01 -2.60403395e+00  3.22801501e-01\n",
            "  -1.97369993e+00  3.54461598e+00 -2.27973175e+00 -1.37811399e+00\n",
            "   9.73800004e-01 -1.14048004e+00  3.31741977e+00  2.20423603e+00\n",
            "  -2.51670063e-01 -1.71499938e-01  1.87270224e+00 -2.43298006e+00\n",
            "  -7.80102074e-01 -2.10952592e+00 -2.94052094e-01 -3.11175609e+00\n",
            "   3.37878370e+00  6.99022055e-01 -4.49326038e+00  2.31930017e+00\n",
            "  -1.87315986e-01 -2.13903999e+00  1.55236793e+00  2.32209992e+00\n",
            "  -2.98765987e-01  3.21217990e+00 -3.64169955e-01 -7.46082187e-01\n",
            "   1.44638014e+00 -3.21129990e+00 -6.24119997e-01  7.55477965e-01\n",
            "  -1.54318202e+00 -3.67567956e-01  1.29275990e+00 -3.74297976e+00\n",
            "  -2.27662182e+00 -1.96594012e+00  8.80726039e-01  1.24339998e+00\n",
            "   4.48880106e-01 -1.14161992e+00  9.84887958e-01 -8.28232002e+00\n",
            "   2.42600203e+00  1.67218399e+00 -2.98562026e+00  4.07659948e-01\n",
            "  -3.66259962e-01  6.38160050e-01 -1.62764028e-01  1.96138000e+00\n",
            "  -5.11717975e-01 -1.87481189e+00 -1.14235997e+00  2.31174016e+00\n",
            "  -6.02927983e-01 -3.30197382e+00 -2.64656734e+00  4.47371769e+00\n",
            "   8.48116100e-01  3.77649999e+00  3.61626816e+00 -1.27986598e+00\n",
            "  -2.61560011e+00 -1.18269598e+00 -7.43545741e-02  7.02219903e-01\n",
            "   2.06826019e+00  1.24519870e-01  2.78391385e+00 -2.15474796e+00\n",
            "  -2.45298004e+00  4.12709188e+00  2.98667002e+00  5.93199635e+00\n",
            "  -4.73796040e-01 -1.25668406e+00  1.11673999e+00  7.32840151e-02\n",
            "  -3.18322015e+00 -6.88257456e-01  1.00808001e+00 -2.49484587e+00\n",
            "   2.53680460e-02 -9.22959983e-01 -3.04880142e-02  1.64056015e+00\n",
            "   1.93021202e+00  2.63477826e+00  2.21585608e+00  2.09950209e+00\n",
            "   1.65624595e+00 -3.05585980e+00 -4.34112787e+00  3.44918108e+00\n",
            "   5.02373171e+00 -1.59493995e+00  3.00280023e+00 -1.67329216e+00\n",
            "  -8.28769982e-01  1.22283006e+00  2.31062007e+00 -7.35280037e-01\n",
            "   3.87529993e+00  9.61999446e-02  1.19960594e+00  1.51284194e+00\n",
            "   2.64791989e+00 -1.71166587e+00 -7.25857913e-01  2.13107610e+00]\n",
            " [ 0.00000000e+00  0.00000000e+00  0.00000000e+00  0.00000000e+00\n",
            "   0.00000000e+00  0.00000000e+00  0.00000000e+00  0.00000000e+00\n",
            "   0.00000000e+00  0.00000000e+00  0.00000000e+00  0.00000000e+00\n",
            "   0.00000000e+00  0.00000000e+00  0.00000000e+00  0.00000000e+00\n",
            "   0.00000000e+00  0.00000000e+00  0.00000000e+00  0.00000000e+00\n",
            "   0.00000000e+00  0.00000000e+00  0.00000000e+00  0.00000000e+00\n",
            "   0.00000000e+00  0.00000000e+00  0.00000000e+00  0.00000000e+00\n",
            "   0.00000000e+00  0.00000000e+00  0.00000000e+00  0.00000000e+00\n",
            "   0.00000000e+00  0.00000000e+00  0.00000000e+00  0.00000000e+00\n",
            "   0.00000000e+00  0.00000000e+00  0.00000000e+00  0.00000000e+00\n",
            "   0.00000000e+00  0.00000000e+00  0.00000000e+00  0.00000000e+00\n",
            "   0.00000000e+00  0.00000000e+00  0.00000000e+00  0.00000000e+00\n",
            "   0.00000000e+00  0.00000000e+00  0.00000000e+00  0.00000000e+00\n",
            "   0.00000000e+00  0.00000000e+00  0.00000000e+00  0.00000000e+00\n",
            "   0.00000000e+00  0.00000000e+00  0.00000000e+00  0.00000000e+00\n",
            "   0.00000000e+00  0.00000000e+00  0.00000000e+00  0.00000000e+00\n",
            "   0.00000000e+00  0.00000000e+00  0.00000000e+00  0.00000000e+00\n",
            "   0.00000000e+00  0.00000000e+00  0.00000000e+00  0.00000000e+00\n",
            "   0.00000000e+00  0.00000000e+00  0.00000000e+00  0.00000000e+00\n",
            "   0.00000000e+00  0.00000000e+00  0.00000000e+00  0.00000000e+00\n",
            "   0.00000000e+00  0.00000000e+00  0.00000000e+00  0.00000000e+00\n",
            "   0.00000000e+00  0.00000000e+00  0.00000000e+00  0.00000000e+00\n",
            "   0.00000000e+00  0.00000000e+00  0.00000000e+00  0.00000000e+00\n",
            "   0.00000000e+00  0.00000000e+00  0.00000000e+00  0.00000000e+00\n",
            "   0.00000000e+00  0.00000000e+00  0.00000000e+00  0.00000000e+00\n",
            "   0.00000000e+00  0.00000000e+00  0.00000000e+00  0.00000000e+00\n",
            "   0.00000000e+00  0.00000000e+00  0.00000000e+00  0.00000000e+00\n",
            "   0.00000000e+00  0.00000000e+00  0.00000000e+00  0.00000000e+00\n",
            "   0.00000000e+00  0.00000000e+00  0.00000000e+00  0.00000000e+00\n",
            "   0.00000000e+00  0.00000000e+00  0.00000000e+00  0.00000000e+00\n",
            "   0.00000000e+00  0.00000000e+00  0.00000000e+00  0.00000000e+00\n",
            "   0.00000000e+00  0.00000000e+00  0.00000000e+00  0.00000000e+00\n",
            "   0.00000000e+00  0.00000000e+00  0.00000000e+00  0.00000000e+00\n",
            "   0.00000000e+00  0.00000000e+00  0.00000000e+00  0.00000000e+00\n",
            "   0.00000000e+00  0.00000000e+00  0.00000000e+00  0.00000000e+00\n",
            "   0.00000000e+00  0.00000000e+00  0.00000000e+00  0.00000000e+00\n",
            "   0.00000000e+00  0.00000000e+00  0.00000000e+00  0.00000000e+00\n",
            "   0.00000000e+00  0.00000000e+00  0.00000000e+00  0.00000000e+00\n",
            "   0.00000000e+00  0.00000000e+00  0.00000000e+00  0.00000000e+00\n",
            "   0.00000000e+00  0.00000000e+00  0.00000000e+00  0.00000000e+00\n",
            "   0.00000000e+00  0.00000000e+00  0.00000000e+00  0.00000000e+00\n",
            "   0.00000000e+00  0.00000000e+00  0.00000000e+00  0.00000000e+00\n",
            "   0.00000000e+00  0.00000000e+00  0.00000000e+00  0.00000000e+00\n",
            "   0.00000000e+00  0.00000000e+00  0.00000000e+00  0.00000000e+00\n",
            "   0.00000000e+00  0.00000000e+00  0.00000000e+00  0.00000000e+00\n",
            "   0.00000000e+00  0.00000000e+00  0.00000000e+00  0.00000000e+00\n",
            "   0.00000000e+00  0.00000000e+00  0.00000000e+00  0.00000000e+00\n",
            "   0.00000000e+00  0.00000000e+00  0.00000000e+00  0.00000000e+00\n",
            "   0.00000000e+00  0.00000000e+00  0.00000000e+00  0.00000000e+00\n",
            "   0.00000000e+00  0.00000000e+00  0.00000000e+00  0.00000000e+00\n",
            "   0.00000000e+00  0.00000000e+00  0.00000000e+00  0.00000000e+00\n",
            "   0.00000000e+00  0.00000000e+00  0.00000000e+00  0.00000000e+00\n",
            "   0.00000000e+00  0.00000000e+00  0.00000000e+00  0.00000000e+00\n",
            "   0.00000000e+00  0.00000000e+00  0.00000000e+00  0.00000000e+00\n",
            "   0.00000000e+00  0.00000000e+00  0.00000000e+00  0.00000000e+00\n",
            "   0.00000000e+00  0.00000000e+00  0.00000000e+00  0.00000000e+00\n",
            "   0.00000000e+00  0.00000000e+00  0.00000000e+00  0.00000000e+00\n",
            "   0.00000000e+00  0.00000000e+00  0.00000000e+00  0.00000000e+00\n",
            "   0.00000000e+00  0.00000000e+00  0.00000000e+00  0.00000000e+00\n",
            "   0.00000000e+00  0.00000000e+00  0.00000000e+00  0.00000000e+00\n",
            "   0.00000000e+00  0.00000000e+00  0.00000000e+00  0.00000000e+00\n",
            "   0.00000000e+00  0.00000000e+00  0.00000000e+00  0.00000000e+00\n",
            "   0.00000000e+00  0.00000000e+00  0.00000000e+00  0.00000000e+00\n",
            "   0.00000000e+00  0.00000000e+00  0.00000000e+00  0.00000000e+00\n",
            "   0.00000000e+00  0.00000000e+00  0.00000000e+00  0.00000000e+00\n",
            "   0.00000000e+00  0.00000000e+00  0.00000000e+00  0.00000000e+00\n",
            "   0.00000000e+00  0.00000000e+00  0.00000000e+00  0.00000000e+00\n",
            "   0.00000000e+00  0.00000000e+00  0.00000000e+00  0.00000000e+00\n",
            "   0.00000000e+00  0.00000000e+00  0.00000000e+00  0.00000000e+00\n",
            "   0.00000000e+00  0.00000000e+00  0.00000000e+00  0.00000000e+00\n",
            "   0.00000000e+00  0.00000000e+00  0.00000000e+00  0.00000000e+00\n",
            "   0.00000000e+00  0.00000000e+00  0.00000000e+00  0.00000000e+00\n",
            "   0.00000000e+00  0.00000000e+00  0.00000000e+00  0.00000000e+00\n",
            "   0.00000000e+00  0.00000000e+00  0.00000000e+00  0.00000000e+00\n",
            "   0.00000000e+00  0.00000000e+00  0.00000000e+00  0.00000000e+00]]\n",
            "[[ 5.71169257e-01 -2.26346397e+00  3.36093992e-01 -6.72507942e-01\n",
            "   6.93842030e+00  1.76820271e-02  1.38140178e+00  3.83411944e-01\n",
            "  -3.33022028e-01 -2.65542626e+00  6.21230030e+00 -1.29752159e+00\n",
            "  -1.37066007e+00  9.40298080e-01 -4.08000965e-03  1.33536184e+00\n",
            "   1.70110774e+00  2.66281962e+00  6.31208062e-01 -3.05984110e-01\n",
            "  -5.97200036e-01  1.05471587e+00 -1.44634604e+00  2.77288556e+00\n",
            "  -6.00813389e+00 -2.03479961e-01  1.13902092e-01  3.28399956e-01\n",
            "  -2.83644009e+00  3.56477594e+00  7.72122025e-01  1.85099989e-01\n",
            "  -3.33154225e+00 -6.85390055e-01 -3.26051641e+00 -8.59819889e-01\n",
            "   7.11314678e-01  2.52313185e+00  3.85451627e+00  2.14485002e+00\n",
            "  -5.92160106e-01  1.13290000e+00 -1.46996605e+00  4.92879957e-01\n",
            "  -4.01476002e+00  4.51278019e+00  4.66880035e+00 -2.88979679e-01\n",
            "   7.17088044e-01 -2.34402990e+00 -4.09638017e-01 -6.32019997e-01\n",
            "   6.44338012e-01 -9.33860123e-01  9.18576062e-01  1.03947997e+00\n",
            "  -2.03850603e+00  1.41975999e+00  2.12941676e-01 -3.26830149e-01\n",
            "   6.48178101e-01  1.23104000e+00 -1.72522008e+00 -6.55700028e-01\n",
            "   2.04798412e+00  6.74528003e-01 -1.64359987e+00 -4.43917561e+00\n",
            "   1.96465302e+00  3.19265795e+00 -1.45678997e+00  2.01002216e+00\n",
            "  -3.75452185e+00  5.00883937e-01 -1.48301399e+00  1.25734794e+00\n",
            "  -1.76142001e+00  9.03427958e-01 -3.33306813e+00  5.30391979e+00\n",
            "  -1.84188008e+00 -2.28564000e+00 -3.77747989e+00 -1.11213231e+00\n",
            "   2.46797991e+00 -6.51366115e-01 -1.34198868e+00  7.36721933e-01\n",
            "   4.56748390e+00  3.32932055e-01  2.85166085e-01 -7.43731856e-01\n",
            "   2.62054253e+00 -3.15190005e+00 -9.82137978e-01 -1.53307998e+00\n",
            "  -2.46005988e+00 -8.29199329e-02 -2.27084017e+00 -2.85779595e+00\n",
            "   3.47873616e+00 -1.53764272e+00  6.31760025e+00  4.78491402e+00\n",
            "   2.34301996e+00  3.54484034e+00  5.37243962e-01  1.25504151e-01\n",
            "  -2.36018801e+00  9.96919990e-01  3.27596674e-03  2.89955854e-01\n",
            "   5.43634057e-01  2.55063200e+00 -1.07878196e+00 -4.25057888e-01\n",
            "  -3.81454015e+00  7.72260070e-01 -4.03259903e-01 -1.36141992e+00\n",
            "  -2.26824090e-01 -3.65910029e+00 -1.01975203e+00  1.04392803e+00\n",
            "  -1.76128006e+00 -5.49158001e+00  7.82319903e-01 -1.51374006e+00\n",
            "   1.38049960e-01 -1.11996388e+00 -5.01241970e+00 -7.62077987e-01\n",
            "   4.01946592e+00 -3.02277040e+00  1.54904258e+00 -1.97588801e+00\n",
            "   1.39359212e+00  9.30359960e-01  2.68709993e+00 -4.00704002e+00\n",
            "   1.68318391e+00  1.02781594e+00  2.95326018e+00  7.30188012e-01\n",
            "   1.27899975e-01  2.18522143e+00 -4.04849815e+00 -3.28414202e+00\n",
            "   1.57419920e-01  4.07833004e+00  3.97615969e-01  1.38144994e+00\n",
            "  -4.55344021e-01 -7.73159862e-01  1.95024681e+00 -1.96181983e-01\n",
            "   3.03404188e+00  2.17488408e+00 -1.01044011e+00 -4.44303846e+00\n",
            "   8.69697928e-01  2.13890314e+00  3.44752622e+00  1.11432004e+00\n",
            "  -2.00523996e+00 -2.08684015e+00 -1.94319797e+00  2.18500733e+00\n",
            "   3.42008018e+00  3.40194011e+00 -1.98450983e+00  1.05975592e+00\n",
            "   9.27559972e-01 -1.80379999e+00 -1.98104000e+00  1.24993789e+00\n",
            "  -7.13299960e-02  1.59534013e+00 -3.45482016e+00 -1.68850005e+00\n",
            "  -2.76816040e-01  2.44108367e+00 -2.03795767e+00 -1.77308011e+00\n",
            "  -2.43070388e+00 -8.68962109e-01 -2.00382590e+00  1.77201465e-01\n",
            "  -1.59366012e+00  3.96750021e+00 -2.16887212e+00 -3.24193954e-01\n",
            "  -1.65872067e-01 -2.16610003e+00  3.93709993e+00  2.23143601e+00\n",
            "  -3.55850041e-01 -1.38699985e+00  1.84688222e+00 -2.90188003e+00\n",
            "  -7.99301982e-01 -1.70362604e+00 -1.10171211e+00 -2.85520220e+00\n",
            "   3.53246379e+00  2.04542011e-01 -5.01608038e+00  1.91149998e+00\n",
            "  -9.14835930e-01 -1.39153993e+00  1.14110792e+00  1.85013986e+00\n",
            "  -8.34342003e-01  1.97948003e+00  5.35450041e-01 -8.15922141e-01\n",
            "   1.54098010e+00 -3.16177988e+00 -3.32219929e-01  1.28007793e+00\n",
            "  -1.25922000e+00 -3.91707927e-01 -9.65001136e-02 -4.42217970e+00\n",
            "  -2.15544176e+00 -1.57310009e+00  8.77066016e-01  6.77780032e-01\n",
            "  -4.40759957e-01 -1.06267989e+00  6.31467998e-01 -7.98532009e+00\n",
            "   2.29252195e+00  1.62470400e+00 -3.43741989e+00  3.59639972e-01\n",
            "   1.08780101e-01 -5.68322361e-01 -6.93004012e-01  5.23360014e-01\n",
            "  -9.64540005e-01 -1.19067001e+00 -1.33695984e+00  1.47036004e+00\n",
            "  -8.54848087e-01 -3.01635408e+00 -2.63620710e+00  4.46841764e+00\n",
            "   8.00216079e-01  3.51607966e+00  3.79766798e+00 -2.89385974e-01\n",
            "  -2.14347982e+00 -2.31971598e+00 -4.02694613e-01  7.33990688e-03\n",
            "   3.06500006e+00  9.43019867e-01  3.77141380e+00 -2.66080809e+00\n",
            "  -1.91022015e+00  4.58619976e+00  2.86541057e+00  6.94675970e+00\n",
            "  -9.09321964e-01 -8.23123932e-01  8.01219940e-01  1.09925199e+00\n",
            "  -3.31001997e+00 -8.50157559e-01  1.70261991e+00 -1.14329195e+00\n",
            "  -2.76071966e-01 -1.53618002e+00  1.13690984e+00  1.22644007e+00\n",
            "   8.72431934e-01  2.94283819e+00  2.89997625e+00  2.04064202e+00\n",
            "   1.75108600e+00 -2.16715980e+00 -3.81748819e+00  2.96768117e+00\n",
            "   5.66251183e+00 -1.05580008e+00  3.46440005e+00 -3.00169206e+00\n",
            "  -4.88770008e-01  7.85170078e-01  3.31958008e+00  1.65428007e+00\n",
            "   2.86325979e+00 -1.23720028e-01  1.79982603e+00  2.78602219e+00\n",
            "   2.18005991e+00 -1.73608589e+00 -2.26451918e-01  2.66781616e+00]\n",
            " [-2.73210794e-01 -2.54866385e+00  1.90674022e-01  2.28232101e-01\n",
            "   6.20465994e+00  5.01361966e-01  7.86133885e-01  1.13918400e+00\n",
            "  -4.96421993e-01 -2.93612623e+00  7.04007959e+00 -9.54860032e-01\n",
            "  -1.33842015e+00  4.80318010e-01  1.16963995e+00  8.13381970e-01\n",
            "   1.54460788e+00  1.94874191e+00  1.37220100e-01  1.06559750e-02\n",
            "  -6.14639938e-01  5.88697970e-01 -1.04328609e+00  1.40344548e+00\n",
            "  -5.89973354e+00  2.28179976e-01 -1.17191803e+00 -8.74320149e-01\n",
            "  -3.09349990e+00  3.11485600e+00  1.65240192e+00  8.84949863e-01\n",
            "  -2.93720984e+00 -1.57608008e+00 -3.15391612e+00 -4.16019917e-01\n",
            "   4.84794617e-01  3.21849203e+00  3.90117598e+00  2.09068394e+00\n",
            "   2.16659978e-01  5.25885999e-01 -1.64130616e+00  6.74999207e-02\n",
            "  -3.32326007e+00  4.25084019e+00  4.77678013e+00 -1.10017991e+00\n",
            "  -1.86012000e-01 -1.79207003e+00  4.27241981e-01 -1.59548000e-01\n",
            "   2.45477945e-01 -1.49290013e+00  5.14096141e-01  2.52480000e-01\n",
            "  -2.44790602e+00  1.67253995e+00  5.67043662e-01  3.42499726e-02\n",
            "   9.54180732e-02  1.32791996e+00 -1.37717998e+00 -1.64199996e+00\n",
            "   2.06624413e+00  1.09744799e+00 -1.85703599e+00 -4.37594414e+00\n",
            "   2.42937303e+00  1.89613795e+00 -1.24947000e+00  2.33226228e+00\n",
            "  -3.81540227e+00  1.20120406e+00 -2.01368785e+00  1.40492797e+00\n",
            "  -1.55606008e+00  7.29214013e-01 -3.18958783e+00  4.48611975e+00\n",
            "  -2.47435999e+00 -2.00604582e+00 -3.72887993e+00 -1.23871636e+00\n",
            "   2.71578407e+00 -5.65986097e-01 -4.66228634e-01  2.63821930e-01\n",
            "   3.01336408e+00  1.01483202e+00 -2.54494011e-01 -1.22891806e-01\n",
            "   1.73342252e+00 -3.71016002e+00 -1.90463793e+00 -1.18068004e+00\n",
            "  -1.84414005e+00 -2.79199127e-02 -1.83866000e+00 -1.87753797e+00\n",
            "   3.21605611e+00 -1.80374265e+00  5.18461990e+00  5.60737991e+00\n",
            "   3.07384014e+00  2.81845999e+00 -3.05196047e-01  2.67504126e-01\n",
            "  -1.43396807e+00  2.10417986e+00 -2.06944078e-01  8.92095864e-01\n",
            "   9.51033950e-01  2.64503193e+00 -1.04000199e+00 -1.43171799e+00\n",
            "  -3.63003993e+00  6.03839993e-01  3.29720080e-01 -1.67131996e+00\n",
            "  -1.41286409e+00 -3.15533996e+00 -3.94011945e-01  1.27276814e+00\n",
            "  -1.71255994e+00 -5.74060011e+00  8.97219956e-01 -1.83521998e+00\n",
            "   1.27469987e-01 -3.11555982e-01 -5.10621929e+00 -1.12757397e+00\n",
            "   2.62334585e+00 -3.37137032e+00  1.20828259e+00 -1.58206809e+00\n",
            "   1.42217231e+00  3.44460011e-01  3.19233990e+00 -3.52616000e+00\n",
            "   2.72038412e+00  4.96215910e-01  1.79689860e+00 -6.53912008e-01\n",
            "  -6.74140036e-01  9.19861615e-01 -4.47368002e+00 -4.35186243e+00\n",
            "   8.64899814e-01  3.76627016e+00  2.89920002e-01  9.73670006e-01\n",
            "  -7.98143983e-01 -7.38959968e-01  2.51027018e-01 -1.05748200e+00\n",
            "   1.83226204e+00  2.68696594e+00 -3.94400120e-01 -3.23975825e+00\n",
            "   4.02220115e-02  1.46370292e+00  2.78632593e+00  2.35753989e+00\n",
            "  -1.57103992e+00 -1.84166014e+00 -7.23698020e-01  1.01600730e+00\n",
            "   3.50804019e+00  3.44494009e+00 -1.04990995e+00  1.43763602e+00\n",
            "   1.29499996e+00 -2.26802015e+00 -1.32871997e+00  4.49937969e-01\n",
            "   4.60110009e-01  1.61850011e+00 -3.10843992e+00 -1.10006201e+00\n",
            "  -9.90960151e-02  2.89992380e+00 -1.93395805e+00 -6.73735142e-01\n",
            "  -2.81952405e+00  3.85857970e-01 -2.60403395e+00  3.22801501e-01\n",
            "  -1.97369993e+00  3.54461598e+00 -2.27973175e+00 -1.37811399e+00\n",
            "   9.73800004e-01 -1.14048004e+00  3.31741977e+00  2.20423603e+00\n",
            "  -2.51670063e-01 -1.71499938e-01  1.87270224e+00 -2.43298006e+00\n",
            "  -7.80102074e-01 -2.10952592e+00 -2.94052094e-01 -3.11175609e+00\n",
            "   3.37878370e+00  6.99022055e-01 -4.49326038e+00  2.31930017e+00\n",
            "  -1.87315986e-01 -2.13903999e+00  1.55236793e+00  2.32209992e+00\n",
            "  -2.98765987e-01  3.21217990e+00 -3.64169955e-01 -7.46082187e-01\n",
            "   1.44638014e+00 -3.21129990e+00 -6.24119997e-01  7.55477965e-01\n",
            "  -1.54318202e+00 -3.67567956e-01  1.29275990e+00 -3.74297976e+00\n",
            "  -2.27662182e+00 -1.96594012e+00  8.80726039e-01  1.24339998e+00\n",
            "   4.48880106e-01 -1.14161992e+00  9.84887958e-01 -8.28232002e+00\n",
            "   2.42600203e+00  1.67218399e+00 -2.98562026e+00  4.07659948e-01\n",
            "  -3.66259962e-01  6.38160050e-01 -1.62764028e-01  1.96138000e+00\n",
            "  -5.11717975e-01 -1.87481189e+00 -1.14235997e+00  2.31174016e+00\n",
            "  -6.02927983e-01 -3.30197382e+00 -2.64656734e+00  4.47371769e+00\n",
            "   8.48116100e-01  3.77649999e+00  3.61626816e+00 -1.27986598e+00\n",
            "  -2.61560011e+00 -1.18269598e+00 -7.43545741e-02  7.02219903e-01\n",
            "   2.06826019e+00  1.24519870e-01  2.78391385e+00 -2.15474796e+00\n",
            "  -2.45298004e+00  4.12709188e+00  2.98667002e+00  5.93199635e+00\n",
            "  -4.73796040e-01 -1.25668406e+00  1.11673999e+00  7.32840151e-02\n",
            "  -3.18322015e+00 -6.88257456e-01  1.00808001e+00 -2.49484587e+00\n",
            "   2.53680460e-02 -9.22959983e-01 -3.04880142e-02  1.64056015e+00\n",
            "   1.93021202e+00  2.63477826e+00  2.21585608e+00  2.09950209e+00\n",
            "   1.65624595e+00 -3.05585980e+00 -4.34112787e+00  3.44918108e+00\n",
            "   5.02373171e+00 -1.59493995e+00  3.00280023e+00 -1.67329216e+00\n",
            "  -8.28769982e-01  1.22283006e+00  2.31062007e+00 -7.35280037e-01\n",
            "   3.87529993e+00  9.61999446e-02  1.19960594e+00  1.51284194e+00\n",
            "   2.64791989e+00 -1.71166587e+00 -7.25857913e-01  2.13107610e+00]\n",
            " [-4.12850767e-01 -2.54026389e+00 -2.82319784e-01  3.01432133e-01\n",
            "   6.54258060e+00  6.45761967e-01  8.57813835e-01  1.35317588e+00\n",
            "  -6.48742020e-01 -2.85388613e+00  6.99401999e+00 -8.74660134e-01\n",
            "  -1.55838799e+00  1.08277991e-01  1.44684005e+00  8.76081824e-01\n",
            "   1.12122786e+00  1.59433985e+00  3.60580057e-01  4.08495903e-01\n",
            "  -7.02299953e-01  1.48685586e+00 -7.79526055e-01  1.55310559e+00\n",
            "  -6.38333416e+00  1.33260012e-01 -1.29141796e+00 -1.62998009e+00\n",
            "  -3.51903987e+00  3.44853592e+00  1.94460177e+00  9.59863842e-01\n",
            "  -2.50004196e+00 -1.73279989e+00 -3.57173610e+00 -3.57619971e-01\n",
            "   1.72254622e-01  3.31695175e+00  3.67855597e+00  1.82566798e+00\n",
            "   3.84359986e-01  5.90386033e-01 -1.58598602e+00 -2.41138026e-01\n",
            "  -3.18668008e+00  4.53426027e+00  4.39152431e+00 -1.03117979e+00\n",
            "  -7.33852029e-01 -1.55391002e+00  2.17581987e-01 -2.41760258e-02\n",
            "  -7.33819231e-02 -1.75712013e+00  6.34496093e-01  1.99000001e-01\n",
            "  -2.62390590e+00  1.49438000e+00  3.58741671e-01  1.18749999e-01\n",
            "  -6.20018952e-02  1.64825988e+00 -1.39010000e+00 -1.73867989e+00\n",
            "   2.33786392e+00  9.62207973e-01 -1.63123989e+00 -3.84962010e+00\n",
            "   1.70675695e+00  2.08540392e+00 -9.63061929e-01  2.57152224e+00\n",
            "  -3.52563906e+00  7.85363972e-01 -2.21424794e+00  1.81180799e+00\n",
            "  -1.15199995e+00  1.29517958e-01 -3.12656808e+00  4.07611990e+00\n",
            "  -3.37831998e+00 -1.73780990e+00 -3.97487974e+00 -1.20801640e+00\n",
            "   2.73610377e+00 -2.71906078e-01 -3.00048649e-01  4.30801928e-01\n",
            "   2.59536409e+00  1.02175212e+00 -2.69874007e-01 -1.79491803e-01\n",
            "   2.00678253e+00 -3.10710001e+00 -2.16713786e+00 -9.81279850e-01\n",
            "  -1.35532212e+00  1.30420059e-01 -1.52729213e+00 -1.63195586e+00\n",
            "   3.49117613e+00 -1.84516263e+00  5.02780008e+00  5.59465981e+00\n",
            "   2.61803985e+00  3.21680021e+00 -5.96476018e-01  1.63244098e-01\n",
            "  -1.71462798e+00  2.21373987e+00 -7.29464054e-01  4.79075849e-01\n",
            "   5.56234002e-01  1.82265210e+00 -1.33568203e+00 -1.47393787e+00\n",
            "  -4.07861996e+00  6.81620061e-01 -1.82959944e-01 -1.78149986e+00\n",
            "  -1.50039804e+00 -2.74603987e+00 -2.96771944e-01  1.23418820e+00\n",
            "  -1.46647990e+00 -5.78276014e+00  1.25497389e+00 -1.60484004e+00\n",
            "   6.60210013e-01 -4.50575978e-01 -4.48210001e+00 -1.46975398e+00\n",
            "   2.53188586e+00 -3.16489029e+00  1.20414269e+00 -1.43072796e+00\n",
            "   1.15563214e+00  5.93660057e-01  2.63293982e+00 -3.20334005e+00\n",
            "   2.89878416e+00  4.13215935e-01  1.73618007e+00 -5.47631979e-01\n",
            "  -7.04259932e-01  1.11506152e+00 -4.28563213e+00 -4.04106236e+00\n",
            "   1.30789983e+00  3.93475008e+00  2.60379970e-01  1.23139000e+00\n",
            "  -9.80163932e-01 -7.10760236e-01  5.98870292e-02 -1.19528210e+00\n",
            "   1.39102197e+00  2.67548609e+00 -5.61880112e-01 -3.18687797e+00\n",
            "  -6.88757956e-01  1.41970313e+00  3.08072615e+00  2.46153998e+00\n",
            "  -1.42027986e+00 -1.68824005e+00 -8.63518059e-01  9.20607448e-01\n",
            "   3.37128019e+00  3.53734016e+00 -8.19310009e-01  1.70573592e+00\n",
            "   1.45576000e+00 -2.74662018e+00 -9.71920013e-01  3.50737870e-01\n",
            "   7.06629992e-01  1.58990014e+00 -3.39402008e+00 -9.86561954e-01\n",
            "  -5.24396062e-01  2.89984369e+00 -1.56815803e+00 -6.04399979e-01\n",
            "  -2.92018390e+00  6.66497886e-01 -2.90669394e+00  1.44681454e-01\n",
            "  -2.13795996e+00  3.88342023e+00 -2.59901190e+00 -1.81757390e+00\n",
            "   1.03005993e+00 -1.62551999e+00  3.10119987e+00  1.87899613e+00\n",
            "  -2.69250035e-01  7.75800496e-02  2.06816220e+00 -2.04770041e+00\n",
            "  -1.08864200e+00 -2.71736574e+00 -1.11292146e-01 -3.79298019e+00\n",
            "   3.83848381e+00  6.14962041e-01 -3.90326047e+00  2.55690002e+00\n",
            "  -3.26360241e-02 -1.76895976e+00  1.59624791e+00  2.36689997e+00\n",
            "  -2.18145996e-01  3.41043997e+00 -4.83909935e-01 -7.47280180e-01\n",
            "   1.99097979e+00 -3.29464006e+00 -6.47699952e-01  7.37657964e-01\n",
            "  -1.47545791e+00 -3.62387955e-01  1.75984001e+00 -3.78557968e+00\n",
            "  -2.55498171e+00 -1.68386006e+00  7.97945976e-01  1.57710004e+00\n",
            "   1.97640136e-01 -1.00495982e+00  9.83428001e-01 -8.20551968e+00\n",
            "   2.29934192e+00  1.56108391e+00 -2.75068808e+00  1.85400005e-02\n",
            "  -6.47679985e-01  3.84920031e-01 -9.06839818e-02  2.12558007e+00\n",
            "  -8.44565988e-01 -1.87731206e+00 -9.01359916e-01  2.05288005e+00\n",
            "  -2.03008085e-01 -3.41945386e+00 -2.59794736e+00  5.12463808e+00\n",
            "   1.14687800e+00  3.82313991e+00  3.40066838e+00 -1.52378595e+00\n",
            "  -2.90569997e+00 -1.05691600e+00 -5.59814632e-01  1.32290006e+00\n",
            "   2.13736010e+00  2.55979866e-01  2.80297399e+00 -1.83004797e+00\n",
            "  -2.67322016e+00  4.70180035e+00  2.55098009e+00  6.03658009e+00\n",
            "  -3.49687994e-01 -1.17880404e+00  5.18719912e-01  1.57863960e-01\n",
            "  -3.38878012e+00 -4.77649450e-01  1.01821995e+00 -2.42020583e+00\n",
            "   7.23600611e-02 -1.66106009e+00 -2.59870023e-01  1.56369996e+00\n",
            "   1.99113202e+00  2.43759823e+00  1.99741614e+00  2.07192183e+00\n",
            "   2.08508611e+00 -2.73291969e+00 -4.57174778e+00  3.22966075e+00\n",
            "   5.45271158e+00 -1.73348010e+00  2.85337996e+00 -1.31927204e+00\n",
            "  -7.25849986e-01  8.61169994e-01  2.53118014e+00 -7.78779984e-01\n",
            "   3.61922789e+00  2.93359995e-01  9.66426015e-01  1.28730202e+00\n",
            "   2.65191984e+00 -1.39628577e+00 -1.00671969e-01  2.29029608e+00]]\n"
          ]
        }
      ]
    },
    {
      "cell_type": "markdown",
      "source": [],
      "metadata": {
        "id": "bZHVc7WL5-PX"
      }
    },
    {
      "cell_type": "markdown",
      "source": [
        "# 4.1 Intents and Classification"
      ],
      "metadata": {
        "id": "KcCVAL506Clp"
      }
    },
    {
      "cell_type": "markdown",
      "source": [
        "#### **Intent classification with sklearn**"
      ],
      "metadata": {
        "id": "buvrD4Ig6NOQ"
      }
    },
    {
      "cell_type": "markdown",
      "source": [
        "Intent classification with sklearn\n",
        "An array X containing vectors describing each of the sentences in the ATIS dataset has been created for you, along with a 1D array y containing the labels. The labels are integers corresponding to the intents in the dataset. For example, label 0 corresponds to the intent atis_flight.\n",
        "\n",
        "Now, you'll use the scikit-learn library to train a classifier on this same dataset. Specifically, you will fit and evaluate a support vector classifier.\n",
        "\n",
        "**Instructions**\n",
        "\n",
        "Import the SVC class from sklearn.svm.\n",
        "Instantiate a classifier clf by calling SVC with a single keyword argument C with value 1.\n",
        "Fit the classifier to the training data X_train and y_train.\n",
        "Predict the labels of the test set, X_test."
      ],
      "metadata": {
        "id": "I4GQ9bFi-AS5"
      }
    },
    {
      "cell_type": "code",
      "source": [
        "import pandas as pd\n",
        "import numpy as np\n",
        "import spacy\n",
        "from sklearn.svm import SVC\n",
        "from sklearn.model_selection import train_test_split\n",
        "\n",
        "np.random.seed(42)\n",
        "\n",
        "\n",
        "# importing heart_disease dataset\n",
        "heart_disease = pd.read_csv(\"heart-disease.csv\")\n",
        "X = heart_disease.drop(\"target\", axis=1)\n",
        "y = heart_disease[\"target\"]\n",
        "X_train, X_test, y_train, y_test = train_test_split(X, y, test_size=0.2)\n",
        "\n",
        "# Create a support vector classifier\n",
        "clf = SVC()\n",
        "# Fit the classifier using the training data\n",
        "clf.fit(X_train, y_train)\n",
        "\n",
        "# Predict the labels of the test set\n",
        "y_preds = clf.predict(X_test)\n",
        "\n",
        "# converting y_test into an array to compare with y_preds\n",
        "y_test = np.array(y_test)\n",
        "\n",
        "# Count the number of correct predictions\n",
        "n_correct = 0\n",
        "for i in range(len(y_test)):\n",
        "    if y_preds[i] == np.array(y_test[i]):\n",
        "        n_correct += 1\n",
        "\n",
        "print(\"Predicted {0} correctly out of {1} test examples\".format(n_correct, len(y_test)))\n"
      ],
      "metadata": {
        "id": "2dopld-Q6RFG",
        "outputId": "495c2f4f-e80b-421d-8dd4-73a42899d1ec",
        "colab": {
          "base_uri": "https://localhost:8080/"
        }
      },
      "execution_count": null,
      "outputs": [
        {
          "output_type": "stream",
          "name": "stdout",
          "text": [
            "Predicted 43 correctly out of 61 test examples\n"
          ]
        }
      ]
    },
    {
      "cell_type": "markdown",
      "source": [
        "# 5.1 Entity Extraction"
      ],
      "metadata": {
        "id": "7IPATrMJZjqY"
      }
    },
    {
      "cell_type": "markdown",
      "source": [
        "#### Using spaCy's entity recognizer"
      ],
      "metadata": {
        "id": "pdHe2DsGZt0f"
      }
    },
    {
      "cell_type": "code",
      "source": [
        "import spacy\n",
        "# Define included entities\n",
        "include_entities = ['DATE', 'ORG', 'PERSON']\n",
        "\n",
        "# Define extract_entities()\n",
        "def extract_entities(message):\n",
        "    # Create a dict to hold the entities\n",
        "    ents = dict.fromkeys(include_entities)\n",
        "    # Create a spacy document\n",
        "    doc = nlp(message)\n",
        "    for ent in doc.ents:\n",
        "        if ent.label_ in include_entities:\n",
        "            # Save interesting entities\n",
        "            ents[ent.label_] = ent.text\n",
        "    return ents\n",
        "\n",
        "print(extract_entities('friends called Mary who have worked at Google since 2010'))\n",
        "print(extract_entities('people who graduated from MIT in 1999'))"
      ],
      "metadata": {
        "id": "o5OZwcKu6T7P",
        "outputId": "0c7c8f2c-d318-4e3a-e0ce-d4207f68a5e9",
        "colab": {
          "base_uri": "https://localhost:8080/",
          "height": 373
        }
      },
      "execution_count": null,
      "outputs": [
        {
          "output_type": "stream",
          "name": "stderr",
          "text": [
            "/usr/local/lib/python3.8/dist-packages/torch/cuda/__init__.py:497: UserWarning: Can't initialize NVML\n",
            "  warnings.warn(\"Can't initialize NVML\")\n"
          ]
        },
        {
          "output_type": "error",
          "ename": "NameError",
          "evalue": "ignored",
          "traceback": [
            "\u001b[0;31m---------------------------------------------------------------------------\u001b[0m",
            "\u001b[0;31mNameError\u001b[0m                                 Traceback (most recent call last)",
            "\u001b[0;32m<ipython-input-3-b1b8fcae5d4b>\u001b[0m in \u001b[0;36m<module>\u001b[0;34m\u001b[0m\n\u001b[1;32m     15\u001b[0m     \u001b[0;32mreturn\u001b[0m \u001b[0ments\u001b[0m\u001b[0;34m\u001b[0m\u001b[0;34m\u001b[0m\u001b[0m\n\u001b[1;32m     16\u001b[0m \u001b[0;34m\u001b[0m\u001b[0m\n\u001b[0;32m---> 17\u001b[0;31m \u001b[0mprint\u001b[0m\u001b[0;34m(\u001b[0m\u001b[0mextract_entities\u001b[0m\u001b[0;34m(\u001b[0m\u001b[0;34m'friends called Mary who have worked at Google since 2010'\u001b[0m\u001b[0;34m)\u001b[0m\u001b[0;34m)\u001b[0m\u001b[0;34m\u001b[0m\u001b[0;34m\u001b[0m\u001b[0m\n\u001b[0m\u001b[1;32m     18\u001b[0m \u001b[0mprint\u001b[0m\u001b[0;34m(\u001b[0m\u001b[0mextract_entities\u001b[0m\u001b[0;34m(\u001b[0m\u001b[0;34m'people who graduated from MIT in 1999'\u001b[0m\u001b[0;34m)\u001b[0m\u001b[0;34m)\u001b[0m\u001b[0;34m\u001b[0m\u001b[0;34m\u001b[0m\u001b[0m\n",
            "\u001b[0;32m<ipython-input-3-b1b8fcae5d4b>\u001b[0m in \u001b[0;36mextract_entities\u001b[0;34m(message)\u001b[0m\n\u001b[1;32m      8\u001b[0m     \u001b[0ments\u001b[0m \u001b[0;34m=\u001b[0m \u001b[0mdict\u001b[0m\u001b[0;34m.\u001b[0m\u001b[0mfromkeys\u001b[0m\u001b[0;34m(\u001b[0m\u001b[0minclude_entities\u001b[0m\u001b[0;34m)\u001b[0m\u001b[0;34m\u001b[0m\u001b[0;34m\u001b[0m\u001b[0m\n\u001b[1;32m      9\u001b[0m     \u001b[0;31m# Create a spacy document\u001b[0m\u001b[0;34m\u001b[0m\u001b[0;34m\u001b[0m\u001b[0;34m\u001b[0m\u001b[0m\n\u001b[0;32m---> 10\u001b[0;31m     \u001b[0mdoc\u001b[0m \u001b[0;34m=\u001b[0m \u001b[0mnlp\u001b[0m\u001b[0;34m(\u001b[0m\u001b[0mmessage\u001b[0m\u001b[0;34m)\u001b[0m\u001b[0;34m\u001b[0m\u001b[0;34m\u001b[0m\u001b[0m\n\u001b[0m\u001b[1;32m     11\u001b[0m     \u001b[0;32mfor\u001b[0m \u001b[0ment\u001b[0m \u001b[0;32min\u001b[0m \u001b[0mdoc\u001b[0m\u001b[0;34m.\u001b[0m\u001b[0ments\u001b[0m\u001b[0;34m:\u001b[0m\u001b[0;34m\u001b[0m\u001b[0;34m\u001b[0m\u001b[0m\n\u001b[1;32m     12\u001b[0m         \u001b[0;32mif\u001b[0m \u001b[0ment\u001b[0m\u001b[0;34m.\u001b[0m\u001b[0mlabel_\u001b[0m \u001b[0;32min\u001b[0m \u001b[0minclude_entities\u001b[0m\u001b[0;34m:\u001b[0m\u001b[0;34m\u001b[0m\u001b[0;34m\u001b[0m\u001b[0m\n",
            "\u001b[0;31mNameError\u001b[0m: name 'nlp' is not defined"
          ]
        }
      ]
    },
    {
      "cell_type": "markdown",
      "source": [
        "#### Assigning roles using spaCy's parser"
      ],
      "metadata": {
        "id": "TvspSweHZ7HW"
      }
    },
    {
      "cell_type": "code",
      "source": [
        "import spacy\n",
        "# Create the document\n",
        "doc = nlp(\"let's see that jacket in red and some blue jeans\")\n",
        "\n",
        "# Iterate over parents in parse tree until an item entity is found\n",
        "def find_parent_item(word):\n",
        "    # Iterate over the word's ancestors\n",
        "    for parent in word.ancestors:\n",
        "        # Check for an \"item\" entity\n",
        "        if entity_type(parent) == \"item\":\n",
        "            return parent.text\n",
        "    return None\n",
        "\n",
        "# For all color entities, find their parent item\n",
        "def assign_colors(doc):\n",
        "    # Iterate over the document\n",
        "    for word in doc:\n",
        "        # Check for \"color\" entities\n",
        "        if entity_type(word) == \"color\":\n",
        "            # Find the parent\n",
        "            item =  find_parent_item(word)\n",
        "            print(\"item: {0} has color : {1}\".format(item, word))\n",
        "\n",
        "# Assign the colors\n",
        "assign_colors(doc)"
      ],
      "metadata": {
        "id": "zCMyxZaMZ_8t",
        "outputId": "9cf531b1-0cc4-4509-a47d-84a214bcd02f",
        "colab": {
          "base_uri": "https://localhost:8080/",
          "height": 235
        }
      },
      "execution_count": null,
      "outputs": [
        {
          "output_type": "error",
          "ename": "NameError",
          "evalue": "ignored",
          "traceback": [
            "\u001b[0;31m---------------------------------------------------------------------------\u001b[0m",
            "\u001b[0;31mNameError\u001b[0m                                 Traceback (most recent call last)",
            "\u001b[0;32m<ipython-input-4-ca1ff6ba904b>\u001b[0m in \u001b[0;36m<module>\u001b[0;34m\u001b[0m\n\u001b[1;32m      1\u001b[0m \u001b[0;32mimport\u001b[0m \u001b[0mspacy\u001b[0m\u001b[0;34m\u001b[0m\u001b[0;34m\u001b[0m\u001b[0m\n\u001b[1;32m      2\u001b[0m \u001b[0;31m# Create the document\u001b[0m\u001b[0;34m\u001b[0m\u001b[0;34m\u001b[0m\u001b[0;34m\u001b[0m\u001b[0m\n\u001b[0;32m----> 3\u001b[0;31m \u001b[0mdoc\u001b[0m \u001b[0;34m=\u001b[0m \u001b[0mnlp\u001b[0m\u001b[0;34m(\u001b[0m\u001b[0;34m\"let's see that jacket in red and some blue jeans\"\u001b[0m\u001b[0;34m)\u001b[0m\u001b[0;34m\u001b[0m\u001b[0;34m\u001b[0m\u001b[0m\n\u001b[0m\u001b[1;32m      4\u001b[0m \u001b[0;34m\u001b[0m\u001b[0m\n\u001b[1;32m      5\u001b[0m \u001b[0;31m# Iterate over parents in parse tree until an item entity is found\u001b[0m\u001b[0;34m\u001b[0m\u001b[0;34m\u001b[0m\u001b[0;34m\u001b[0m\u001b[0m\n",
            "\u001b[0;31mNameError\u001b[0m: name 'nlp' is not defined"
          ]
        }
      ]
    },
    {
      "cell_type": "code",
      "source": [],
      "metadata": {
        "id": "y0EI7D7zaGEl"
      },
      "execution_count": null,
      "outputs": []
    },
    {
      "cell_type": "markdown",
      "source": [
        "# 5.2 Robust language understanding with rasa NLU"
      ],
      "metadata": {
        "id": "jmTdpzNQx_O0"
      }
    },
    {
      "cell_type": "markdown",
      "source": [
        "RASA NLU"
      ],
      "metadata": {
        "id": "Cbb2aA_3yX4M"
      }
    },
    {
      "cell_type": "code",
      "source": [
        "# Import necessary modules\n",
        "from rasa_nlu.converters import load_data\n",
        "from rasa_nlu.config import RasaNLUConfig\n",
        "from rasa_nlu.model import Trainer\n",
        "\n",
        "# Create args dictionary\n",
        "args = {\"pipeline\": \"spacy_sklearn\"}\n",
        "\n",
        "# Create a configuration and trainer\n",
        "config = RasaNLUConfig(cmdline_args = args)\n",
        "trainer = Trainer(config)\n",
        "\n",
        "# Load the training data\n",
        "training_data = load_data(\"./training_data.json\")\n",
        "\n",
        "# Create an interpreter by training the model\n",
        "interpreter = trainer.train(training_data)\n",
        "\n",
        "# Try it out\n",
        "print(interpreter.parse(\"I'm looking for a Mexican restaurant in the North of town\"))"
      ],
      "metadata": {
        "id": "68bAXQpbyBKz",
        "outputId": "fe7d80cd-cbc4-4957-80b6-19c23c7bbedd",
        "colab": {
          "base_uri": "https://localhost:8080/",
          "height": 373
        }
      },
      "execution_count": null,
      "outputs": [
        {
          "output_type": "error",
          "ename": "ModuleNotFoundError",
          "evalue": "ignored",
          "traceback": [
            "\u001b[0;31m---------------------------------------------------------------------------\u001b[0m",
            "\u001b[0;31mModuleNotFoundError\u001b[0m                       Traceback (most recent call last)",
            "\u001b[0;32m<ipython-input-1-0b977f2e0a02>\u001b[0m in \u001b[0;36m<cell line: 2>\u001b[0;34m()\u001b[0m\n\u001b[1;32m      1\u001b[0m \u001b[0;31m# Import necessary modules\u001b[0m\u001b[0;34m\u001b[0m\u001b[0;34m\u001b[0m\u001b[0m\n\u001b[0;32m----> 2\u001b[0;31m \u001b[0;32mfrom\u001b[0m \u001b[0mrasa_nlu\u001b[0m\u001b[0;34m.\u001b[0m\u001b[0mconverters\u001b[0m \u001b[0;32mimport\u001b[0m \u001b[0mload_data\u001b[0m\u001b[0;34m\u001b[0m\u001b[0;34m\u001b[0m\u001b[0m\n\u001b[0m\u001b[1;32m      3\u001b[0m \u001b[0;32mfrom\u001b[0m \u001b[0mrasa_nlu\u001b[0m\u001b[0;34m.\u001b[0m\u001b[0mconfig\u001b[0m \u001b[0;32mimport\u001b[0m \u001b[0mRasaNLUConfig\u001b[0m\u001b[0;34m\u001b[0m\u001b[0;34m\u001b[0m\u001b[0m\n\u001b[1;32m      4\u001b[0m \u001b[0;32mfrom\u001b[0m \u001b[0mrasa_nlu\u001b[0m\u001b[0;34m.\u001b[0m\u001b[0mmodel\u001b[0m \u001b[0;32mimport\u001b[0m \u001b[0mTrainer\u001b[0m\u001b[0;34m\u001b[0m\u001b[0;34m\u001b[0m\u001b[0m\n\u001b[1;32m      5\u001b[0m \u001b[0;34m\u001b[0m\u001b[0m\n",
            "\u001b[0;31mModuleNotFoundError\u001b[0m: No module named 'rasa_nlu'",
            "",
            "\u001b[0;31m---------------------------------------------------------------------------\u001b[0;32m\nNOTE: If your import is failing due to a missing package, you can\nmanually install dependencies using either !pip or !apt.\n\nTo view examples of installing some common dependencies, click the\n\"Open Examples\" button below.\n\u001b[0;31m---------------------------------------------------------------------------\u001b[0m\n"
          ],
          "errorDetails": {
            "actions": [
              {
                "action": "open_url",
                "actionText": "Open Examples",
                "url": "/notebooks/snippets/importing_libraries.ipynb"
              }
            ]
          }
        }
      ]
    },
    {
      "cell_type": "markdown",
      "source": [
        "Data Efficient Entity Recognition"
      ],
      "metadata": {
        "id": "pqBTEMiZyieD"
      }
    },
    {
      "cell_type": "code",
      "source": [
        "# Import necessary modules\n",
        "from rasa_nlu.config import RasaNLUConfig\n",
        "from rasa_nlu.model import Trainer\n",
        "\n",
        "pipeline = [\n",
        "    \"nlp_spacy\",\n",
        "    \"tokenizer_spacy\",\n",
        "    \"ner_crf\"\n",
        "]\n",
        "\n",
        "# Create a config that uses this pipeline\n",
        "config = RasaNLUConfig(cmdline_args = {\"pipeline\": pipeline})\n",
        "\n",
        "# Create a trainer that uses this config\n",
        "trainer = Trainer(config)\n",
        "\n",
        "# Create an interpreter by training the model\n",
        "interpreter =  trainer.train(training_data)\n",
        "\n",
        "# Parse some messages\n",
        "print(interpreter.parse(\"show me Chinese food in the centre of town\"))\n",
        "print(interpreter.parse(\"I want an Indian restaurant in the west\"))\n",
        "print(interpreter.parse(\"are there any good pizza places in the center?\"))"
      ],
      "metadata": {
        "id": "Sk17RSSqybmD",
        "outputId": "dd2978f7-898f-467c-f3f9-b5f7c0b6418c",
        "colab": {
          "base_uri": "https://localhost:8080/",
          "height": 373
        }
      },
      "execution_count": null,
      "outputs": [
        {
          "output_type": "error",
          "ename": "ModuleNotFoundError",
          "evalue": "ignored",
          "traceback": [
            "\u001b[0;31m---------------------------------------------------------------------------\u001b[0m",
            "\u001b[0;31mModuleNotFoundError\u001b[0m                       Traceback (most recent call last)",
            "\u001b[0;32m<ipython-input-2-ae441e7adc44>\u001b[0m in \u001b[0;36m<cell line: 2>\u001b[0;34m()\u001b[0m\n\u001b[1;32m      1\u001b[0m \u001b[0;31m# Import necessary modules\u001b[0m\u001b[0;34m\u001b[0m\u001b[0;34m\u001b[0m\u001b[0m\n\u001b[0;32m----> 2\u001b[0;31m \u001b[0;32mfrom\u001b[0m \u001b[0mrasa_nlu\u001b[0m\u001b[0;34m.\u001b[0m\u001b[0mconfig\u001b[0m \u001b[0;32mimport\u001b[0m \u001b[0mRasaNLUConfig\u001b[0m\u001b[0;34m\u001b[0m\u001b[0;34m\u001b[0m\u001b[0m\n\u001b[0m\u001b[1;32m      3\u001b[0m \u001b[0;32mfrom\u001b[0m \u001b[0mrasa_nlu\u001b[0m\u001b[0;34m.\u001b[0m\u001b[0mmodel\u001b[0m \u001b[0;32mimport\u001b[0m \u001b[0mTrainer\u001b[0m\u001b[0;34m\u001b[0m\u001b[0;34m\u001b[0m\u001b[0m\n\u001b[1;32m      4\u001b[0m \u001b[0;34m\u001b[0m\u001b[0m\n\u001b[1;32m      5\u001b[0m pipeline = [\n",
            "\u001b[0;31mModuleNotFoundError\u001b[0m: No module named 'rasa_nlu'",
            "",
            "\u001b[0;31m---------------------------------------------------------------------------\u001b[0;32m\nNOTE: If your import is failing due to a missing package, you can\nmanually install dependencies using either !pip or !apt.\n\nTo view examples of installing some common dependencies, click the\n\"Open Examples\" button below.\n\u001b[0;31m---------------------------------------------------------------------------\u001b[0m\n"
          ],
          "errorDetails": {
            "actions": [
              {
                "action": "open_url",
                "actionText": "Open Examples",
                "url": "/notebooks/snippets/importing_libraries.ipynb"
              }
            ]
          }
        }
      ]
    },
    {
      "cell_type": "code",
      "source": [],
      "metadata": {
        "id": "dfdYk_DDyhXz"
      },
      "execution_count": null,
      "outputs": []
    }
  ]
}
