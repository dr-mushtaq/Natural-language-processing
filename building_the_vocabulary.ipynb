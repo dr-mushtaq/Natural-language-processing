{
  "cells": [
    {
      "cell_type": "markdown",
      "metadata": {
        "id": "view-in-github",
        "colab_type": "text"
      },
      "source": [
        "<a href=\"https://colab.research.google.com/github/hussain0048/Natural-language-processing/blob/main/building_the_vocabulary.ipynb\" target=\"_parent\"><img src=\"https://colab.research.google.com/assets/colab-badge.svg\" alt=\"Open In Colab\"/></a>"
      ]
    },
    {
      "cell_type": "markdown",
      "metadata": {
        "id": "EctCOBtFayQ-"
      },
      "source": [
        "# NLP Course 2 Week 1 Lesson : Building The Model - Lecture Exercise 01\n",
        "Estimated Time: 10 minutes\n",
        "<br>\n",
        "# **Vocabulary Creation**\n",
        "Create a tiny vocabulary from a tiny corpus\n",
        "<br>\n",
        "It's time to start small !\n",
        "<br>\n",
        "### **Imports and Data**"
      ]
    },
    {
      "cell_type": "code",
      "execution_count": 1,
      "metadata": {
        "id": "AdhYEakaayRL"
      },
      "outputs": [],
      "source": [
        "# imports\n",
        "import re # regular expression library; for tokenization of words\n",
        "from collections import Counter # collections library; counter: dict subclass for counting hashable objects\n",
        "import matplotlib.pyplot as plt # for data visualization"
      ]
    },
    {
      "cell_type": "code",
      "execution_count": 2,
      "metadata": {
        "id": "y55Q5tnPayRO",
        "outputId": "19200ed2-4ed8-4d93-f453-6603e1e866ee",
        "colab": {
          "base_uri": "https://localhost:8080/"
        }
      },
      "outputs": [
        {
          "output_type": "stream",
          "name": "stdout",
          "text": [
            "red pink pink blue blue yellow ORANGE BLUE BLUE PINK black black\n",
            "string length : 64\n"
          ]
        }
      ],
      "source": [
        "# the tiny corpus of text ! \n",
        "text = 'red pink pink blue blue yellow ORANGE BLUE BLUE PINK black black' # 🌈\n",
        "print(text)\n",
        "print('string length :', len(text))"
      ]
    },
    {
      "cell_type": "markdown",
      "metadata": {
        "id": "kX1lldFaayRP"
      },
      "source": [
        "### **Preprocessing**"
      ]
    },
    {
      "cell_type": "code",
      "execution_count": 3,
      "metadata": {
        "id": "gZJaGPudayRQ",
        "outputId": "4c5d82ad-2665-4e08-b8f3-b567a6bcfedc",
        "colab": {
          "base_uri": "https://localhost:8080/"
        }
      },
      "outputs": [
        {
          "output_type": "stream",
          "name": "stdout",
          "text": [
            "red pink pink blue blue yellow orange blue blue pink black black\n",
            "string length : 64\n"
          ]
        }
      ],
      "source": [
        "# convert all letters to lower case\n",
        "text_lowercase = text.lower()\n",
        "print(text_lowercase)\n",
        "print('string length :', len(text_lowercase))"
      ]
    },
    {
      "cell_type": "code",
      "execution_count": 4,
      "metadata": {
        "id": "1HH9tSo3ayRQ",
        "outputId": "434b0b38-fba8-46b4-d001-19770e7d7067",
        "colab": {
          "base_uri": "https://localhost:8080/"
        }
      },
      "outputs": [
        {
          "output_type": "stream",
          "name": "stdout",
          "text": [
            "['red', 'pink', 'pink', 'blue', 'blue', 'yellow', 'orange', 'blue', 'blue', 'pink', 'black', 'black']\n",
            "count : 12\n"
          ]
        }
      ],
      "source": [
        "# some regex to tokenize the string to words and return them in a list\n",
        "words = re.findall(r'\\w+', text_lowercase)\n",
        "print(words)\n",
        "print('count :', len(words))"
      ]
    },
    {
      "cell_type": "markdown",
      "metadata": {
        "id": "5pt4gNwyayRQ"
      },
      "source": [
        "### **Create Vocabulary**\n",
        "Option 1 : A set of distinct words from the text"
      ]
    },
    {
      "cell_type": "code",
      "execution_count": 5,
      "metadata": {
        "id": "YUBPUDi-ayRQ",
        "outputId": "5086ffd4-5853-4405-e67d-7419dd9e9e33",
        "colab": {
          "base_uri": "https://localhost:8080/"
        }
      },
      "outputs": [
        {
          "output_type": "stream",
          "name": "stdout",
          "text": [
            "{'yellow', 'orange', 'pink', 'red', 'blue', 'black'}\n",
            "count : 6\n"
          ]
        }
      ],
      "source": [
        "# create vocab\n",
        "vocab = set(words)\n",
        "print(vocab)\n",
        "print('count :', len(vocab))"
      ]
    },
    {
      "cell_type": "markdown",
      "metadata": {
        "id": "3Jov919mayRR"
      },
      "source": [
        "### **Add Information with Word Counts**\n",
        "Option 2 : Two alternatives for including the word count as well"
      ]
    },
    {
      "cell_type": "code",
      "execution_count": 6,
      "metadata": {
        "id": "zutLber5ayRR",
        "outputId": "283be11b-8312-44e3-a045-f447c9063c2c",
        "colab": {
          "base_uri": "https://localhost:8080/"
        }
      },
      "outputs": [
        {
          "output_type": "stream",
          "name": "stdout",
          "text": [
            "{'red': 1, 'pink': 3, 'blue': 4, 'yellow': 1, 'orange': 1, 'black': 2}\n",
            "count : 6\n"
          ]
        }
      ],
      "source": [
        "# create vocab including word count\n",
        "counts_a = dict()\n",
        "for w in words:\n",
        "    counts_a[w] = counts_a.get(w, 0) + 1\n",
        "print(counts_a)\n",
        "print('count :', len(counts_a))"
      ]
    },
    {
      "cell_type": "code",
      "execution_count": 7,
      "metadata": {
        "id": "bD9SjKiCayRR",
        "outputId": "544eb450-d021-4443-a1f3-d1f5bbfafd36",
        "colab": {
          "base_uri": "https://localhost:8080/"
        }
      },
      "outputs": [
        {
          "output_type": "stream",
          "name": "stdout",
          "text": [
            "Counter({'blue': 4, 'pink': 3, 'black': 2, 'red': 1, 'yellow': 1, 'orange': 1})\n",
            "count :  6\n"
          ]
        }
      ],
      "source": [
        "# create vocab including word count using collections.Counter\n",
        "counts_b = Counter(words)\n",
        "print(counts_b)\n",
        "print('count : ',len(counts_b))"
      ]
    },
    {
      "cell_type": "code",
      "execution_count": 8,
      "metadata": {
        "id": "0pI1ZGyFayRS",
        "outputId": "43b156e1-e694-40fe-fe54-bd09367f20bc",
        "colab": {
          "base_uri": "https://localhost:8080/",
          "height": 430
        }
      },
      "outputs": [
        {
          "output_type": "display_data",
          "data": {
            "text/plain": [
              "<Figure size 640x480 with 1 Axes>"
            ],
            "image/png": "[encoded data removed]"
          },
          "metadata": {}
        }
      ],
      "source": [
        "# barchart of sorted word counts\n",
        "d = {\n",
        "    'blue': counts_b['blue'], \n",
        "     'pink': counts_b['pink'], \n",
        "     'black': counts_b['black'],\n",
        "     'red': counts_b['red'], \n",
        "     'yellow': counts_b['yellow'], \n",
        "    'orange': counts_b['orange']\n",
        "}\n",
        "plt.bar(range(len(d)), list(d.values()), align='center', color=d.keys())\n",
        "_ = plt.xticks(range(len(d)), list(d.keys()))"
      ]
    },
    {
      "cell_type": "markdown",
      "metadata": {
        "id": "v3NfkLn1ayRS"
      },
      "source": [
        "### **Ungraded Exercise**\n",
        "Note that `counts_b`, above, returned by `collections.Counter` is sorted by word count\n",
        "\n",
        "Can you modify the tiny corpus of ***text*** so that a new color appears \n",
        "between ***pink*** and ***red*** in `counts_b` ?\n",
        "\n",
        "Do you need to run all the cells again, or just specific ones ? "
      ]
    },
    {
      "cell_type": "code",
      "execution_count": 9,
      "metadata": {
        "id": "KGLT-ljTayRT",
        "outputId": "94ed381c-cee6-4085-8dee-17fbc89b1861",
        "colab": {
          "base_uri": "https://localhost:8080/"
        }
      },
      "outputs": [
        {
          "output_type": "stream",
          "name": "stdout",
          "text": [
            "counts_b :  Counter({'blue': 4, 'pink': 3, 'black': 2, 'red': 1, 'yellow': 1, 'orange': 1})\n",
            "count :  6\n"
          ]
        }
      ],
      "source": [
        "print('counts_b : ', counts_b)\n",
        "print('count : ', len(counts_b))"
      ]
    },
    {
      "cell_type": "markdown",
      "metadata": {
        "id": "Rw5-vor-ayRT"
      },
      "source": [
        "Expected Outcome:\n",
        "\n",
        "counts_b : Counter({'blue': 4, 'pink': 3, **'your_new_color_here': 2**, red': 1, 'yellow': 1, 'orange': 1})\n",
        "<br>\n",
        "count :  6"
      ]
    },
    {
      "cell_type": "markdown",
      "metadata": {
        "id": "cindbUAJayRT"
      },
      "source": [
        "### **Summary**\n",
        "\n",
        "This is a tiny example but the methodology scales very well.\n",
        "<br>\n",
        "In the assignment you will create a large vocabulary of thousands of words, from a corpus\n",
        "<br>\n",
        "of tens of thousands or words! But the mechanics are exactly the same. \n",
        "<br> \n",
        "The only extra things to pay attention to should be; run time, memory management and the vocab data structure.\n",
        "<br> \n",
        "So the choice of approach used in code blocks `counts_a` vs `counts_b`, above, will be important."
      ]
    }
  ],
  "metadata": {
    "kernelspec": {
      "display_name": "Python 3",
      "language": "python",
      "name": "python3"
    },
    "language_info": {
      "codemirror_mode": {
        "name": "ipython",
        "version": 3
      },
      "file_extension": ".py",
      "mimetype": "text/x-python",
      "name": "python",
      "nbconvert_exporter": "python",
      "pygments_lexer": "ipython3",
      "version": "3.7.8"
    },
    "colab": {
      "provenance": [],
      "toc_visible": true,
      "include_colab_link": true
    }
  },
  "nbformat": 4,
  "nbformat_minor": 0
}